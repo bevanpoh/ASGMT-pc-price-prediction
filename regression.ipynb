{
 "cells": [
  {
   "cell_type": "markdown",
   "metadata": {},
   "source": [
    "<h1>PC Prices </h1>\n",
    "\n",
    "Computers are arguably a basic need nowadays in the age of technology. However, their prices can range from a few hundred to even thousands of dollars depending on the model. For a person looking to purchase a computer, finding one within their budget across this large range can be difficult. Hence, a trained machine learning model that can predict appropriate prices for any computer given its specifications can be extremely useful in narrowing down the range and pointing out possible options, helping people plan for their budget."
   ]
  },
  {
   "cell_type": "markdown",
   "metadata": {},
   "source": [
    "# Import Libraries and Data"
   ]
  },
  {
   "cell_type": "code",
   "execution_count": 1135,
   "metadata": {},
   "outputs": [],
   "source": [
    "import pandas as pd\n",
    "import numpy as np\n",
    "import matplotlib.pyplot as plt\n",
    "import seaborn as sns\n",
    "\n",
    "sns.set()\n"
   ]
  },
  {
   "cell_type": "code",
   "execution_count": 1136,
   "metadata": {},
   "outputs": [
    {
     "name": "stdout",
     "output_type": "stream",
     "text": [
      "<class 'pandas.core.frame.DataFrame'>\n",
      "RangeIndex: 15320 entries, 0 to 15319\n",
      "Data columns (total 12 columns):\n",
      " #   Column            Non-Null Count  Dtype  \n",
      "---  ------            --------------  -----  \n",
      " 0   Product ID        15320 non-null  int64  \n",
      " 1   Brand             15320 non-null  object \n",
      " 2   Type              15320 non-null  object \n",
      " 3   Screen Size       15320 non-null  float64\n",
      " 4   Screen Specs      15320 non-null  object \n",
      " 5   CPU               15320 non-null  object \n",
      " 6   RAM               15320 non-null  object \n",
      " 7   Hard Disk         15320 non-null  object \n",
      " 8   GPU               15320 non-null  object \n",
      " 9   Operating System  15320 non-null  object \n",
      " 10  Weight            15320 non-null  object \n",
      " 11  Price ($)         15320 non-null  float64\n",
      "dtypes: float64(2), int64(1), object(9)\n",
      "memory usage: 1.4+ MB\n"
     ]
    },
    {
     "data": {
      "text/plain": [
       "None"
      ]
     },
     "metadata": {},
     "output_type": "display_data"
    },
    {
     "data": {
      "text/html": [
       "<div>\n",
       "<style scoped>\n",
       "    .dataframe tbody tr th:only-of-type {\n",
       "        vertical-align: middle;\n",
       "    }\n",
       "\n",
       "    .dataframe tbody tr th {\n",
       "        vertical-align: top;\n",
       "    }\n",
       "\n",
       "    .dataframe thead th {\n",
       "        text-align: right;\n",
       "    }\n",
       "</style>\n",
       "<table border=\"1\" class=\"dataframe\">\n",
       "  <thead>\n",
       "    <tr style=\"text-align: right;\">\n",
       "      <th></th>\n",
       "      <th>Product ID</th>\n",
       "      <th>Brand</th>\n",
       "      <th>Type</th>\n",
       "      <th>Screen Size</th>\n",
       "      <th>Screen Specs</th>\n",
       "      <th>CPU</th>\n",
       "      <th>RAM</th>\n",
       "      <th>Hard Disk</th>\n",
       "      <th>GPU</th>\n",
       "      <th>Operating System</th>\n",
       "      <th>Weight</th>\n",
       "      <th>Price ($)</th>\n",
       "    </tr>\n",
       "  </thead>\n",
       "  <tbody>\n",
       "    <tr>\n",
       "      <th>0</th>\n",
       "      <td>0</td>\n",
       "      <td>Apple</td>\n",
       "      <td>Ultrabook</td>\n",
       "      <td>13.3</td>\n",
       "      <td>IPS Panel Retina Display 2560x1600</td>\n",
       "      <td>Intel Core i5 2.3GHz</td>\n",
       "      <td>8GB</td>\n",
       "      <td>128GB SSD</td>\n",
       "      <td>Intel Iris Plus Graphics 640</td>\n",
       "      <td>macOS</td>\n",
       "      <td>1.37kg</td>\n",
       "      <td>3568.93416</td>\n",
       "    </tr>\n",
       "    <tr>\n",
       "      <th>1</th>\n",
       "      <td>1</td>\n",
       "      <td>Apple</td>\n",
       "      <td>Ultrabook</td>\n",
       "      <td>13.3</td>\n",
       "      <td>1440x900</td>\n",
       "      <td>Intel Core i5 1.8GHz</td>\n",
       "      <td>8GB</td>\n",
       "      <td>128GB Flash Storage</td>\n",
       "      <td>Intel HD Graphics 6000</td>\n",
       "      <td>macOS</td>\n",
       "      <td>1.34kg</td>\n",
       "      <td>2394.77616</td>\n",
       "    </tr>\n",
       "    <tr>\n",
       "      <th>2</th>\n",
       "      <td>2</td>\n",
       "      <td>HP</td>\n",
       "      <td>Notebook</td>\n",
       "      <td>15.6</td>\n",
       "      <td>Full HD 1920x1080</td>\n",
       "      <td>Intel Core i5 7200U 2.5GHz</td>\n",
       "      <td>8GB</td>\n",
       "      <td>256GB SSD</td>\n",
       "      <td>Intel HD Graphics 620</td>\n",
       "      <td>No OS</td>\n",
       "      <td>1.86kg</td>\n",
       "      <td>1531.80000</td>\n",
       "    </tr>\n",
       "    <tr>\n",
       "      <th>3</th>\n",
       "      <td>3</td>\n",
       "      <td>Apple</td>\n",
       "      <td>Ultrabook</td>\n",
       "      <td>15.4</td>\n",
       "      <td>IPS Panel Retina Display 2880x1800</td>\n",
       "      <td>Intel Core i7 2.7GHz</td>\n",
       "      <td>16GB</td>\n",
       "      <td>512GB SSD</td>\n",
       "      <td>AMD Radeon Pro 455</td>\n",
       "      <td>macOS</td>\n",
       "      <td>1.83kg</td>\n",
       "      <td>6759.76680</td>\n",
       "    </tr>\n",
       "    <tr>\n",
       "      <th>4</th>\n",
       "      <td>4</td>\n",
       "      <td>Apple</td>\n",
       "      <td>Ultrabook</td>\n",
       "      <td>13.3</td>\n",
       "      <td>IPS Panel Retina Display 2560x1600</td>\n",
       "      <td>Intel Core i5 3.1GHz</td>\n",
       "      <td>8GB</td>\n",
       "      <td>256GB SSD</td>\n",
       "      <td>Intel Iris Plus Graphics 650</td>\n",
       "      <td>macOS</td>\n",
       "      <td>1.37kg</td>\n",
       "      <td>4804.79040</td>\n",
       "    </tr>\n",
       "  </tbody>\n",
       "</table>\n",
       "</div>"
      ],
      "text/plain": [
       "   Product ID  Brand       Type  Screen Size  \\\n",
       "0           0  Apple  Ultrabook         13.3   \n",
       "1           1  Apple  Ultrabook         13.3   \n",
       "2           2     HP   Notebook         15.6   \n",
       "3           3  Apple  Ultrabook         15.4   \n",
       "4           4  Apple  Ultrabook         13.3   \n",
       "\n",
       "                         Screen Specs                         CPU   RAM  \\\n",
       "0  IPS Panel Retina Display 2560x1600        Intel Core i5 2.3GHz   8GB   \n",
       "1                            1440x900        Intel Core i5 1.8GHz   8GB   \n",
       "2                   Full HD 1920x1080  Intel Core i5 7200U 2.5GHz   8GB   \n",
       "3  IPS Panel Retina Display 2880x1800        Intel Core i7 2.7GHz  16GB   \n",
       "4  IPS Panel Retina Display 2560x1600        Intel Core i5 3.1GHz   8GB   \n",
       "\n",
       "             Hard Disk                           GPU Operating System  Weight  \\\n",
       "0            128GB SSD  Intel Iris Plus Graphics 640            macOS  1.37kg   \n",
       "1  128GB Flash Storage        Intel HD Graphics 6000            macOS  1.34kg   \n",
       "2            256GB SSD         Intel HD Graphics 620            No OS  1.86kg   \n",
       "3            512GB SSD            AMD Radeon Pro 455            macOS  1.83kg   \n",
       "4            256GB SSD  Intel Iris Plus Graphics 650            macOS  1.37kg   \n",
       "\n",
       "    Price ($)  \n",
       "0  3568.93416  \n",
       "1  2394.77616  \n",
       "2  1531.80000  \n",
       "3  6759.76680  \n",
       "4  4804.79040  "
      ]
     },
     "metadata": {},
     "output_type": "display_data"
    }
   ],
   "source": [
    "df = pd.read_csv(\"./data/pc_data (regression).csv\")\n",
    "\n",
    "display(df.info())\n",
    "display(df.head())"
   ]
  },
  {
   "cell_type": "code",
   "execution_count": 1137,
   "metadata": {},
   "outputs": [
    {
     "name": "stdout",
     "output_type": "stream",
     "text": [
      "Product ID, number of unique values: 15320\n",
      "[0 1 2 3 4 5 6 7 8]\n",
      "\n",
      "Brand, number of unique values: 19\n",
      "['Apple' 'HP' 'Acer' 'Asus' 'Dell' 'Lenovo' 'Chuwi' 'MSI' 'Microsoft']\n",
      "\n",
      "Type, number of unique values: 6\n",
      "['Ultrabook' 'Notebook' 'Netbook' 'Gaming' '2 in 1 Convertible'\n",
      " 'Workstation']\n",
      "\n",
      "Screen Size, number of unique values: 18\n",
      "[13.3 15.6 15.4 14.  12.  11.6 17.3 10.1 13.5]\n",
      "\n",
      "Screen Specs, number of unique values: 40\n",
      "['IPS Panel Retina Display 2560x1600' '1440x900' 'Full HD 1920x1080'\n",
      " 'IPS Panel Retina Display 2880x1800' '1366x768'\n",
      " 'IPS Panel Full HD 1920x1080' 'IPS Panel Retina Display 2304x1440'\n",
      " 'IPS Panel Full HD / Touchscreen 1920x1080'\n",
      " 'Full HD / Touchscreen 1920x1080']\n",
      "\n",
      "CPU, number of unique values: 118\n",
      "['Intel Core i5 2.3GHz' 'Intel Core i5 1.8GHz'\n",
      " 'Intel Core i5 7200U 2.5GHz' 'Intel Core i7 2.7GHz'\n",
      " 'Intel Core i5 3.1GHz' 'AMD A9-Series 9420 3GHz' 'Intel Core i7 2.2GHz'\n",
      " 'Intel Core i7 8550U 1.8GHz' 'Intel Core i5 8250U 1.6GHz']\n",
      "\n",
      "RAM, number of unique values: 9\n",
      "['8GB' '16GB' '4GB' '2GB' '12GB' '6GB' '32GB' '24GB' '64GB']\n",
      "\n",
      "Hard Disk, number of unique values: 39\n",
      "['128GB SSD' '128GB Flash Storage' '256GB SSD' '512GB SSD' '500GB HDD'\n",
      " '256GB Flash Storage' '1TB HDD' '32GB Flash Storage'\n",
      " '128GB SSD +  1TB HDD']\n",
      "\n",
      "GPU, number of unique values: 110\n",
      "['Intel Iris Plus Graphics 640' 'Intel HD Graphics 6000'\n",
      " 'Intel HD Graphics 620' 'AMD Radeon Pro 455'\n",
      " 'Intel Iris Plus Graphics 650' 'AMD Radeon R5' 'Intel Iris Pro Graphics'\n",
      " 'Nvidia GeForce MX150' 'Intel UHD Graphics 620']\n",
      "\n",
      "Operating System, number of unique values: 9\n",
      "['macOS' 'No OS' 'Windows 10' 'Mac OS X' 'Linux' 'Android' 'Windows 10 S'\n",
      " 'Chrome OS' 'Windows 7']\n",
      "\n",
      "Weight, number of unique values: 179\n",
      "['1.37kg' '1.34kg' '1.86kg' '1.83kg' '2.1kg' '2.04kg' '1.3kg' '1.6kg'\n",
      " '2.2kg']\n",
      "\n",
      "Price ($), number of unique values: 9328\n",
      "[3568.93416 2394.77616 1531.8     6759.7668  4804.7904  1065.6\n",
      " 5700.88008 3086.7768  3982.68   ]\n",
      "\n"
     ]
    }
   ],
   "source": [
    "for col in df:\n",
    "    uniques = df[col].unique()\n",
    "\n",
    "    print(f\"{col}, number of unique values: {len(uniques)}\")\n",
    "    print(uniques[:9])\n",
    "    print()"
   ]
  },
  {
   "cell_type": "markdown",
   "metadata": {},
   "source": [
    "The data contains mostly categorical variables which needs a lot of cleaning to convert into somehting a model can use and the numerical variables also containing string units that need to be cleaned. <br>\n",
    "Thankfully, there seems to be no missing data in the dataset."
   ]
  },
  {
   "cell_type": "markdown",
   "metadata": {},
   "source": [
    "# Feature Transformation"
   ]
  },
  {
   "cell_type": "code",
   "execution_count": 1139,
   "metadata": {},
   "outputs": [],
   "source": [
    "from sklearn.feature_extraction.text import CountVectorizer\n",
    "from sklearn.feature_extraction import FeatureHasher\n",
    "from sklearn.preprocessing import OneHotEncoder, OrdinalEncoder"
   ]
  },
  {
   "cell_type": "markdown",
   "metadata": {},
   "source": [
    "### Brand"
   ]
  },
  {
   "cell_type": "code",
   "execution_count": 1310,
   "metadata": {},
   "outputs": [
    {
     "data": {
      "text/plain": [
       "Lenovo       3532\n",
       "Dell         3492\n",
       "HP           3228\n",
       "Asus         1844\n",
       "Acer         1204\n",
       "MSI           640\n",
       "Toshiba       576\n",
       "Apple         200\n",
       "Samsung       108\n",
       "Razer          84\n",
       "Mediacom       84\n",
       "Microsoft      68\n",
       "Xiaomi         48\n",
       "Vero           48\n",
       "Google         36\n",
       "Fujitsu        36\n",
       "LG             36\n",
       "Chuwi          32\n",
       "Huawei         24\n",
       "Name: Brand, dtype: int64"
      ]
     },
     "execution_count": 1310,
     "metadata": {},
     "output_type": "execute_result"
    }
   ],
   "source": [
    "brand = df['Brand'].copy()\n",
    "brand.value_counts(normalize=False)"
   ]
  },
  {
   "cell_type": "markdown",
   "metadata": {},
   "source": [
    "There are 19 unique values and the variable is not ordinal, hence something needs to be done to reduce its dimensions. <br>\n",
    "Since most of the unique variables occur very rarely in the data, they can be grouped into an 'Other' category without much loss of\n",
    "information in the data"
   ]
  },
  {
   "cell_type": "code",
   "execution_count": 1141,
   "metadata": {},
   "outputs": [
    {
     "data": {
      "text/plain": [
       "Lenovo       0.230548\n",
       "Dell         0.458486\n",
       "HP           0.669191\n",
       "Asus         0.789556\n",
       "Acer         0.868146\n",
       "MSI          0.909922\n",
       "Toshiba      0.947520\n",
       "Apple        0.960574\n",
       "Samsung      0.967624\n",
       "Razer        0.973107\n",
       "Mediacom     0.978590\n",
       "Microsoft    0.983029\n",
       "Xiaomi       0.986162\n",
       "Vero         0.989295\n",
       "Google       0.991645\n",
       "Fujitsu      0.993995\n",
       "LG           0.996345\n",
       "Chuwi        0.998433\n",
       "Huawei       1.000000\n",
       "Name: Brand, dtype: float64"
      ]
     },
     "execution_count": 1141,
     "metadata": {},
     "output_type": "execute_result"
    }
   ],
   "source": [
    "cumperc = brand.value_counts(normalize=True).cumsum()\n",
    "cumperc"
   ]
  },
  {
   "cell_type": "code",
   "execution_count": 1142,
   "metadata": {},
   "outputs": [
    {
     "data": {
      "text/plain": [
       "['Lenovo', 'Dell', 'HP', 'Asus', 'Acer', 'MSI']"
      ]
     },
     "execution_count": 1142,
     "metadata": {},
     "output_type": "execute_result"
    }
   ],
   "source": [
    "threshold = 0.9\n",
    "\n",
    "below_threshold = []\n",
    "for name in cumperc.index:\n",
    "    below_threshold.append(name)\n",
    "    if cumperc[name] > threshold:\n",
    "        break\n",
    "\n",
    "below_threshold"
   ]
  },
  {
   "cell_type": "code",
   "execution_count": 1308,
   "metadata": {},
   "outputs": [],
   "source": [
    "brand[~brand.isin(below_threshold)] = 'Other'"
   ]
  },
  {
   "cell_type": "code",
   "execution_count": 1309,
   "metadata": {},
   "outputs": [
    {
     "data": {
      "text/plain": [
       "Lenovo    3532\n",
       "Dell      3492\n",
       "HP        3228\n",
       "Asus      1844\n",
       "Other     1380\n",
       "Acer      1204\n",
       "MSI        640\n",
       "Name: Brand, dtype: int64"
      ]
     },
     "execution_count": 1309,
     "metadata": {},
     "output_type": "execute_result"
    }
   ],
   "source": [
    "brand.value_counts()"
   ]
  },
  {
   "cell_type": "markdown",
   "metadata": {},
   "source": [
    "### Screen Specs"
   ]
  },
  {
   "cell_type": "code",
   "execution_count": 1311,
   "metadata": {},
   "outputs": [
    {
     "data": {
      "text/plain": [
       "Full HD 1920x1080                                0.387990\n",
       "1366x768                                         0.215666\n",
       "IPS Panel Full HD 1920x1080                      0.178068\n",
       "IPS Panel Full HD / Touchscreen 1920x1080        0.041253\n",
       "Full HD / Touchscreen 1920x1080                  0.036292\n",
       "1600x900                                         0.018016\n",
       "Touchscreen 1366x768                             0.012533\n",
       "Quad HD+ / Touchscreen 3200x1800                 0.011749\n",
       "IPS Panel 4K Ultra HD 3840x2160                  0.009399\n",
       "IPS Panel 4K Ultra HD / Touchscreen 3840x2160    0.008616\n",
       "4K Ultra HD / Touchscreen 3840x2160              0.007833\n",
       "4K Ultra HD 3840x2160                            0.005483\n",
       "IPS Panel 1366x768                               0.005483\n",
       "Touchscreen 2560x1440                            0.005483\n",
       "IPS Panel Quad HD+ / Touchscreen 3200x1800       0.004700\n",
       "Touchscreen 2256x1504                            0.004439\n",
       "IPS Panel Retina Display 2304x1440               0.004439\n",
       "IPS Panel Touchscreen 2560x1440                  0.003916\n",
       "IPS Panel Retina Display 2560x1600               0.003655\n",
       "IPS Panel 2560x1440                              0.003133\n",
       "IPS Panel Touchscreen 1920x1200                  0.002872\n",
       "IPS Panel Touchscreen 1366x768                   0.002350\n",
       "Quad HD+ 3200x1800                               0.002350\n",
       "Touchscreen 2400x1600                            0.002350\n",
       "2560x1440                                        0.002350\n",
       "IPS Panel Quad HD+ 2560x1440                     0.002350\n",
       "1920x1080                                        0.002350\n",
       "IPS Panel Retina Display 2880x1800               0.002089\n",
       "1440x900                                         0.002089\n",
       "IPS Panel Full HD 2160x1440                      0.001567\n",
       "IPS Panel Touchscreen / 4K Ultra HD 3840x2160    0.001567\n",
       "IPS Panel Quad HD+ 3200x1800                     0.001567\n",
       "IPS Panel Full HD 1920x1200                      0.000783\n",
       "IPS Panel Retina Display 2736x1824               0.000783\n",
       "IPS Panel Full HD 2560x1440                      0.000783\n",
       "Touchscreen / Full HD 1920x1080                  0.000783\n",
       "IPS Panel Full HD 1366x768                       0.000783\n",
       "Touchscreen / 4K Ultra HD 3840x2160              0.000783\n",
       "IPS Panel Touchscreen 2400x1600                  0.000783\n",
       "Touchscreen / Quad HD+ 3200x1800                 0.000522\n",
       "Name: Screen Specs, dtype: float64"
      ]
     },
     "execution_count": 1311,
     "metadata": {},
     "output_type": "execute_result"
    }
   ],
   "source": [
    "screen_specs = df['Screen Specs'].copy()\n",
    "\n",
    "screen_specs.value_counts(normalize=True)"
   ]
  },
  {
   "cell_type": "markdown",
   "metadata": {},
   "source": [
    "Screen specs contain the resolution at the end, thus that can be extracted out and used as a feature by itself <br>\n",
    "The monitor types then have to further cleaned. <hr> \n",
    "HD, Quad, HD+ and 4k all refer to resolutions, so they are redundant <br>\n",
    "retina display and ips panels are the same thing, its just that Apple uses retina Display to refer to ips panels. Hence it is redundant as well <br>\n",
    "<hr>\n",
    "This leaves us with two keywords. Touchscreen and IPS panels that describe the variable\n",
    "<br>\n",
    "SKlearn's countvectorizer is used to extract these features"
   ]
  },
  {
   "cell_type": "code",
   "execution_count": 1312,
   "metadata": {},
   "outputs": [],
   "source": [
    "# extract screen resolution\n",
    "split =  screen_specs.str.split(r\"(\\d{3,4}x\\d{3,4})\", expand=True)\n",
    "screen_resolution = split[1]\n",
    "screen_resolution.name = 'Resolution'\n",
    "screen_specs = split[0]"
   ]
  },
  {
   "cell_type": "code",
   "execution_count": 1313,
   "metadata": {},
   "outputs": [],
   "source": [
    "cvect = CountVectorizer(\n",
    "    stop_words=[\n",
    "        \"hd\",\n",
    "        \"hd+\",\n",
    "        \"quad\",\n",
    "        \"full\",\n",
    "        \"4k\",\n",
    "        \"ultra\",\n",
    "        \"panel\",\n",
    "        \"retina\",\n",
    "        \"display\",\n",
    "    ],\n",
    "    binary=True,\n",
    ")\n",
    "sp = cvect.fit_transform(screen_specs)\n",
    "screen_specs = pd.DataFrame.sparse.from_spmatrix(\n",
    "    sp, columns=cvect.get_feature_names_out()\n",
    ").sparse.to_dense()"
   ]
  },
  {
   "cell_type": "code",
   "execution_count": 1317,
   "metadata": {},
   "outputs": [
    {
     "data": {
      "text/plain": [
       "1920x1080    9908\n",
       "1366x768     3628\n",
       "3840x2160     516\n",
       "3200x1800     320\n",
       "2560x1440     276\n",
       "1600x900      276\n",
       "2304x1440      68\n",
       "2256x1504      68\n",
       "2560x1600      56\n",
       "1920x1200      56\n",
       "2400x1600      48\n",
       "1440x900       32\n",
       "2880x1800      32\n",
       "2160x1440      24\n",
       "2736x1824      12\n",
       "Name: Resolution, dtype: int64"
      ]
     },
     "execution_count": 1317,
     "metadata": {},
     "output_type": "execute_result"
    }
   ],
   "source": [
    "screen_resolution.value_counts()"
   ]
  },
  {
   "cell_type": "code",
   "execution_count": 1316,
   "metadata": {},
   "outputs": [
    {
     "data": {
      "text/plain": [
       "ips  touchscreen\n",
       "0    0              9748\n",
       "1    0              3292\n",
       "0    1              1268\n",
       "1    1              1012\n",
       "dtype: int64"
      ]
     },
     "execution_count": 1316,
     "metadata": {},
     "output_type": "execute_result"
    }
   ],
   "source": [
    "screen_specs.value_counts()"
   ]
  },
  {
   "cell_type": "markdown",
   "metadata": {},
   "source": [
    "### Hard Disk"
   ]
  },
  {
   "cell_type": "code",
   "execution_count": 1148,
   "metadata": {},
   "outputs": [
    {
     "data": {
      "text/plain": [
       "256GB SSD                        4840\n",
       "1TB HDD                          2616\n",
       "500GB HDD                        1560\n",
       "512GB SSD                        1392\n",
       "128GB SSD +  1TB HDD             1112\n",
       "128GB SSD                         892\n",
       "256GB SSD +  1TB HDD              868\n",
       "32GB Flash Storage                448\n",
       "2TB HDD                           188\n",
       "64GB Flash Storage                168\n",
       "512GB SSD +  1TB HDD              168\n",
       "1TB SSD                           168\n",
       "256GB SSD +  2TB HDD              112\n",
       "1.0TB Hybrid                      108\n",
       "256GB Flash Storage                84\n",
       "16GB Flash Storage                 84\n",
       "32GB SSD                           68\n",
       "180GB SSD                          60\n",
       "128GB Flash Storage                40\n",
       "512GB SSD +  2TB HDD               36\n",
       "16GB SSD                           36\n",
       "512GB Flash Storage                24\n",
       "1TB SSD +  1TB HDD                 24\n",
       "256GB SSD +  500GB HDD             24\n",
       "128GB SSD +  2TB HDD               24\n",
       "256GB SSD +  256GB SSD             20\n",
       "512GB SSD +  256GB SSD             12\n",
       "512GB SSD +  512GB SSD             12\n",
       "64GB Flash Storage +  1TB HDD      12\n",
       "1TB HDD +  1TB HDD                 12\n",
       "32GB HDD                           12\n",
       "64GB SSD                           12\n",
       "128GB HDD                          12\n",
       "240GB SSD                          12\n",
       "8GB SSD                            12\n",
       "508GB Hybrid                       12\n",
       "1.0TB HDD                          12\n",
       "512GB SSD +  1.0TB Hybrid          12\n",
       "256GB SSD +  1.0TB Hybrid          12\n",
       "Name: Hard Disk, dtype: int64"
      ]
     },
     "execution_count": 1148,
     "metadata": {},
     "output_type": "execute_result"
    }
   ],
   "source": [
    "hard_disk = df['Hard Disk'].copy()\n",
    "\n",
    "hard_disk.value_counts()"
   ]
  },
  {
   "cell_type": "markdown",
   "metadata": {},
   "source": [
    "Data contains different units of TB and GB, hence it needs to be converted <br>\n",
    "Some rows contain multiple storage devices, hence that needs to be cleaned in order to ensure consistency <br>\n",
    "There are four formats, HDD, SSD, Flash and Hybrid. These types can be separated into individual columns <br>\n",
    "In the end, a representation of Four different columns for each format with the values corresponding to the storage size of that format is chosen"
   ]
  },
  {
   "cell_type": "code",
   "execution_count": 1149,
   "metadata": {},
   "outputs": [
    {
     "data": {
      "text/plain": [
       "256GB SSD                        0.315927\n",
       "1TB HDD                          0.170757\n",
       "500GB HDD                        0.101828\n",
       "512GB SSD                        0.090862\n",
       "128GB SSD +  1TB HDD             0.072585\n",
       "128GB SSD                        0.058225\n",
       "256GB SSD +  1TB HDD             0.056658\n",
       "32GB Flash Storage               0.029243\n",
       "2TB HDD                          0.012272\n",
       "64GB Flash Storage               0.010966\n",
       "512GB SSD +  1TB HDD             0.010966\n",
       "1TB SSD                          0.010966\n",
       "256GB SSD +  2TB HDD             0.007311\n",
       "1.0TB Hybrid                     0.007050\n",
       "256GB Flash Storage              0.005483\n",
       "16GB Flash Storage               0.005483\n",
       "32GB SSD                         0.004439\n",
       "180GB SSD                        0.003916\n",
       "128GB Flash Storage              0.002611\n",
       "512GB SSD +  2TB HDD             0.002350\n",
       "16GB SSD                         0.002350\n",
       "512GB Flash Storage              0.001567\n",
       "1TB SSD +  1TB HDD               0.001567\n",
       "256GB SSD +  500GB HDD           0.001567\n",
       "128GB SSD +  2TB HDD             0.001567\n",
       "256GB SSD +  256GB SSD           0.001305\n",
       "512GB SSD +  256GB SSD           0.000783\n",
       "512GB SSD +  512GB SSD           0.000783\n",
       "64GB Flash Storage +  1TB HDD    0.000783\n",
       "1TB HDD +  1TB HDD               0.000783\n",
       "32GB HDD                         0.000783\n",
       "64GB SSD                         0.000783\n",
       "128GB HDD                        0.000783\n",
       "240GB SSD                        0.000783\n",
       "8GB SSD                          0.000783\n",
       "508GB Hybrid                     0.000783\n",
       "1.0TB HDD                        0.000783\n",
       "512GB SSD +  1.0TB Hybrid        0.000783\n",
       "256GB SSD +  1.0TB Hybrid        0.000783\n",
       "Name: Hard Disk, dtype: float64"
      ]
     },
     "execution_count": 1149,
     "metadata": {},
     "output_type": "execute_result"
    }
   ],
   "source": [
    "hard_disk.value_counts(normalize=True)"
   ]
  },
  {
   "cell_type": "code",
   "execution_count": 1150,
   "metadata": {},
   "outputs": [],
   "source": [
    "hard_disk = hard_disk.str.replace(\".0\", \"\", regex=False)\n",
    "hard_disk = hard_disk.str.replace(\"TB\", \"000GB\", regex=False)\n",
    "hard_disk = hard_disk.str.replace(\"Storage\", \"\", regex=False)\n",
    "\n",
    "dict = {\n",
    "    \"SSD (GB)\": [],\n",
    "    \"HDD (GB)\": [],\n",
    "    \"Flash (GB)\": [],\n",
    "    \"Hybrid (GB)\": [],\n",
    "}\n",
    "for i, row in enumerate(hard_disk.values):\n",
    "    if \"+\" in row:\n",
    "        split = row.split(\"+\")\n",
    "    else:\n",
    "        split = [row]\n",
    "\n",
    "    for value in split:\n",
    "        size, format = value.strip().split()\n",
    "        size = size.replace('GB', '')\n",
    "        \n",
    "        dict[f'{format} (GB)'].append(int(size))\n",
    "\n",
    "    for key in dict:\n",
    "        if len(dict[key]) < i+1:\n",
    "            dict[key].append(0)\n",
    "\n",
    "hard_disk = pd.DataFrame(dict)"
   ]
  },
  {
   "cell_type": "code",
   "execution_count": 1151,
   "metadata": {},
   "outputs": [
    {
     "data": {
      "text/html": [
       "<div>\n",
       "<style scoped>\n",
       "    .dataframe tbody tr th:only-of-type {\n",
       "        vertical-align: middle;\n",
       "    }\n",
       "\n",
       "    .dataframe tbody tr th {\n",
       "        vertical-align: top;\n",
       "    }\n",
       "\n",
       "    .dataframe thead th {\n",
       "        text-align: right;\n",
       "    }\n",
       "</style>\n",
       "<table border=\"1\" class=\"dataframe\">\n",
       "  <thead>\n",
       "    <tr style=\"text-align: right;\">\n",
       "      <th></th>\n",
       "      <th>SSD (GB)</th>\n",
       "      <th>HDD (GB)</th>\n",
       "      <th>Flash (GB)</th>\n",
       "      <th>Hybrid (GB)</th>\n",
       "    </tr>\n",
       "  </thead>\n",
       "  <tbody>\n",
       "    <tr>\n",
       "      <th>0</th>\n",
       "      <td>128</td>\n",
       "      <td>0</td>\n",
       "      <td>0</td>\n",
       "      <td>0</td>\n",
       "    </tr>\n",
       "    <tr>\n",
       "      <th>1</th>\n",
       "      <td>0</td>\n",
       "      <td>0</td>\n",
       "      <td>128</td>\n",
       "      <td>0</td>\n",
       "    </tr>\n",
       "    <tr>\n",
       "      <th>2</th>\n",
       "      <td>256</td>\n",
       "      <td>0</td>\n",
       "      <td>0</td>\n",
       "      <td>0</td>\n",
       "    </tr>\n",
       "    <tr>\n",
       "      <th>3</th>\n",
       "      <td>512</td>\n",
       "      <td>0</td>\n",
       "      <td>0</td>\n",
       "      <td>0</td>\n",
       "    </tr>\n",
       "    <tr>\n",
       "      <th>4</th>\n",
       "      <td>256</td>\n",
       "      <td>0</td>\n",
       "      <td>0</td>\n",
       "      <td>0</td>\n",
       "    </tr>\n",
       "  </tbody>\n",
       "</table>\n",
       "</div>"
      ],
      "text/plain": [
       "   SSD (GB)  HDD (GB)  Flash (GB)  Hybrid (GB)\n",
       "0       128         0           0            0\n",
       "1         0         0         128            0\n",
       "2       256         0           0            0\n",
       "3       512         0           0            0\n",
       "4       256         0           0            0"
      ]
     },
     "execution_count": 1151,
     "metadata": {},
     "output_type": "execute_result"
    }
   ],
   "source": [
    "hard_disk.head()"
   ]
  },
  {
   "cell_type": "markdown",
   "metadata": {},
   "source": [
    "### CPU"
   ]
  },
  {
   "cell_type": "code",
   "execution_count": 1152,
   "metadata": {},
   "outputs": [
    {
     "data": {
      "text/plain": [
       "Intel Core i5 7200U 2.5GHz     2240\n",
       "Intel Core i7 7700HQ 2.8GHz    1732\n",
       "Intel Core i7 7500U 2.7GHz     1604\n",
       "Intel Core i7 8550U 1.8GHz      836\n",
       "Intel Core i5 8250U 1.6GHz      820\n",
       "                               ... \n",
       "Intel Core i5 2.0GHz              8\n",
       "Intel Core i7 2.9GHz              8\n",
       "AMD E-Series E2-6110 1.5GHz       8\n",
       "Intel Core i7 2.7GHz              8\n",
       "Intel Atom x5-Z8300 1.44GHz       8\n",
       "Name: CPU, Length: 118, dtype: int64"
      ]
     },
     "execution_count": 1152,
     "metadata": {},
     "output_type": "execute_result"
    }
   ],
   "source": [
    "cpu2 = df['CPU'].copy()\n",
    "\n",
    "cpu2.value_counts()"
   ]
  },
  {
   "cell_type": "code",
   "execution_count": 1153,
   "metadata": {},
   "outputs": [
    {
     "data": {
      "text/plain": [
       "Intel Core i5 7200U 2.5GHz     0.146214\n",
       "Intel Core i7 7700HQ 2.8GHz    0.113055\n",
       "Intel Core i7 7500U 2.7GHz     0.104700\n",
       "Intel Core i7 8550U 1.8GHz     0.054569\n",
       "Intel Core i5 8250U 1.6GHz     0.053525\n",
       "                                 ...   \n",
       "Intel Core i5 2.0GHz           0.000522\n",
       "Intel Core i7 2.9GHz           0.000522\n",
       "AMD E-Series E2-6110 1.5GHz    0.000522\n",
       "Intel Core i7 2.7GHz           0.000522\n",
       "Intel Atom x5-Z8300 1.44GHz    0.000522\n",
       "Name: CPU, Length: 118, dtype: float64"
      ]
     },
     "execution_count": 1153,
     "metadata": {},
     "output_type": "execute_result"
    }
   ],
   "source": [
    "cpu2.value_counts(normalize=True)"
   ]
  },
  {
   "cell_type": "markdown",
   "metadata": {},
   "source": [
    "Column contains an absurdly high cardinality of 118, and the percentages are spread quite evenly across many of the unique values. Hence, creating an 'other' category wil not be useful. <br>\n",
    "The clock speed also neds to be separeted individually. <br>\n",
    "In the end, sklearn's feaure hasher was used to encode the data."
   ]
  },
  {
   "cell_type": "code",
   "execution_count": 1154,
   "metadata": {},
   "outputs": [
    {
     "data": {
      "text/plain": [
       "0          Intel Core i5 \n",
       "1          Intel Core i5 \n",
       "2    Intel Core i5 7200U \n",
       "3          Intel Core i7 \n",
       "4          Intel Core i5 \n",
       "Name: 0, dtype: object"
      ]
     },
     "execution_count": 1154,
     "metadata": {},
     "output_type": "execute_result"
    }
   ],
   "source": [
    "\n",
    "split = cpu2.str.split(\n",
    "    r\"((\\d+[.]\\d+[G][H][z])|(\\d+[G][H][z]))\", expand=True\n",
    ")  # regex syntax https://regexr.com/6nfd0\n",
    "\n",
    "cpu_speed = split[1]\n",
    "cpu2 = split[0]\n",
    "\n",
    "cpu2.head()"
   ]
  },
  {
   "cell_type": "code",
   "execution_count": 1155,
   "metadata": {},
   "outputs": [],
   "source": [
    "hash = FeatureHasher(n_features = 8, input_type='string')\n",
    "\n",
    "sp = hash.fit_transform(cpu2)\n",
    "cpu2 = pd.DataFrame.sparse.from_spmatrix(sp).sparse.to_dense()\n",
    "\n",
    "cpu2.columns = [f'CPU_{col}' for col in cpu2.columns]"
   ]
  },
  {
   "cell_type": "code",
   "execution_count": 1319,
   "metadata": {},
   "outputs": [
    {
     "data": {
      "text/plain": [
       "2.5GHz     3424\n",
       "2.7GHz     1960\n",
       "2.8GHz     1956\n",
       "1.6GHz     1540\n",
       "2.3GHz     1024\n",
       "2.6GHz      912\n",
       "1.8GHz      888\n",
       "2GHz        768\n",
       "1.1GHz      628\n",
       "2.4GHz      616\n",
       "2.9GHz      248\n",
       "2.0GHz      224\n",
       "3GHz        220\n",
       "1.2GHz      176\n",
       "1.44GHz     132\n",
       "2.2GHz      128\n",
       "1.5GHz      112\n",
       "1.3GHz       72\n",
       "3.6GHz       60\n",
       "0.9GHz       48\n",
       "2.1GHz       36\n",
       "2.50GHz      36\n",
       "3.1GHz       32\n",
       "1.9GHz       20\n",
       "1.60GHz      12\n",
       "3.2GHz       12\n",
       "1.0GHz       12\n",
       "1.92GHz      12\n",
       "2.70GHz      12\n",
       "Name: 1, dtype: int64"
      ]
     },
     "execution_count": 1319,
     "metadata": {},
     "output_type": "execute_result"
    }
   ],
   "source": [
    "cpu_speed.value_counts()"
   ]
  },
  {
   "cell_type": "code",
   "execution_count": 1318,
   "metadata": {},
   "outputs": [
    {
     "data": {
      "text/html": [
       "<div>\n",
       "<style scoped>\n",
       "    .dataframe tbody tr th:only-of-type {\n",
       "        vertical-align: middle;\n",
       "    }\n",
       "\n",
       "    .dataframe tbody tr th {\n",
       "        vertical-align: top;\n",
       "    }\n",
       "\n",
       "    .dataframe thead th {\n",
       "        text-align: right;\n",
       "    }\n",
       "</style>\n",
       "<table border=\"1\" class=\"dataframe\">\n",
       "  <thead>\n",
       "    <tr style=\"text-align: right;\">\n",
       "      <th></th>\n",
       "      <th>CPU_0</th>\n",
       "      <th>CPU_1</th>\n",
       "      <th>CPU_2</th>\n",
       "      <th>CPU_3</th>\n",
       "      <th>CPU_4</th>\n",
       "      <th>CPU_5</th>\n",
       "      <th>CPU_6</th>\n",
       "      <th>CPU_7</th>\n",
       "    </tr>\n",
       "  </thead>\n",
       "  <tbody>\n",
       "    <tr>\n",
       "      <th>0</th>\n",
       "      <td>3.0</td>\n",
       "      <td>1.0</td>\n",
       "      <td>1.0</td>\n",
       "      <td>0.0</td>\n",
       "      <td>1.0</td>\n",
       "      <td>-2.0</td>\n",
       "      <td>0.0</td>\n",
       "      <td>2.0</td>\n",
       "    </tr>\n",
       "    <tr>\n",
       "      <th>1</th>\n",
       "      <td>3.0</td>\n",
       "      <td>1.0</td>\n",
       "      <td>1.0</td>\n",
       "      <td>0.0</td>\n",
       "      <td>1.0</td>\n",
       "      <td>-2.0</td>\n",
       "      <td>0.0</td>\n",
       "      <td>2.0</td>\n",
       "    </tr>\n",
       "    <tr>\n",
       "      <th>2</th>\n",
       "      <td>5.0</td>\n",
       "      <td>-1.0</td>\n",
       "      <td>1.0</td>\n",
       "      <td>0.0</td>\n",
       "      <td>1.0</td>\n",
       "      <td>-2.0</td>\n",
       "      <td>-1.0</td>\n",
       "      <td>3.0</td>\n",
       "    </tr>\n",
       "    <tr>\n",
       "      <th>3</th>\n",
       "      <td>4.0</td>\n",
       "      <td>1.0</td>\n",
       "      <td>1.0</td>\n",
       "      <td>0.0</td>\n",
       "      <td>0.0</td>\n",
       "      <td>-2.0</td>\n",
       "      <td>0.0</td>\n",
       "      <td>2.0</td>\n",
       "    </tr>\n",
       "    <tr>\n",
       "      <th>4</th>\n",
       "      <td>3.0</td>\n",
       "      <td>1.0</td>\n",
       "      <td>1.0</td>\n",
       "      <td>0.0</td>\n",
       "      <td>1.0</td>\n",
       "      <td>-2.0</td>\n",
       "      <td>0.0</td>\n",
       "      <td>2.0</td>\n",
       "    </tr>\n",
       "    <tr>\n",
       "      <th>...</th>\n",
       "      <td>...</td>\n",
       "      <td>...</td>\n",
       "      <td>...</td>\n",
       "      <td>...</td>\n",
       "      <td>...</td>\n",
       "      <td>...</td>\n",
       "      <td>...</td>\n",
       "      <td>...</td>\n",
       "    </tr>\n",
       "    <tr>\n",
       "      <th>15315</th>\n",
       "      <td>6.0</td>\n",
       "      <td>-1.0</td>\n",
       "      <td>1.0</td>\n",
       "      <td>0.0</td>\n",
       "      <td>1.0</td>\n",
       "      <td>-2.0</td>\n",
       "      <td>-1.0</td>\n",
       "      <td>2.0</td>\n",
       "    </tr>\n",
       "    <tr>\n",
       "      <th>15316</th>\n",
       "      <td>6.0</td>\n",
       "      <td>-1.0</td>\n",
       "      <td>1.0</td>\n",
       "      <td>0.0</td>\n",
       "      <td>1.0</td>\n",
       "      <td>-2.0</td>\n",
       "      <td>-1.0</td>\n",
       "      <td>2.0</td>\n",
       "    </tr>\n",
       "    <tr>\n",
       "      <th>15317</th>\n",
       "      <td>6.0</td>\n",
       "      <td>0.0</td>\n",
       "      <td>2.0</td>\n",
       "      <td>1.0</td>\n",
       "      <td>3.0</td>\n",
       "      <td>-2.0</td>\n",
       "      <td>1.0</td>\n",
       "      <td>3.0</td>\n",
       "    </tr>\n",
       "    <tr>\n",
       "      <th>15318</th>\n",
       "      <td>6.0</td>\n",
       "      <td>-1.0</td>\n",
       "      <td>1.0</td>\n",
       "      <td>0.0</td>\n",
       "      <td>1.0</td>\n",
       "      <td>-2.0</td>\n",
       "      <td>-1.0</td>\n",
       "      <td>2.0</td>\n",
       "    </tr>\n",
       "    <tr>\n",
       "      <th>15319</th>\n",
       "      <td>6.0</td>\n",
       "      <td>0.0</td>\n",
       "      <td>2.0</td>\n",
       "      <td>1.0</td>\n",
       "      <td>3.0</td>\n",
       "      <td>-2.0</td>\n",
       "      <td>1.0</td>\n",
       "      <td>3.0</td>\n",
       "    </tr>\n",
       "  </tbody>\n",
       "</table>\n",
       "<p>15320 rows × 8 columns</p>\n",
       "</div>"
      ],
      "text/plain": [
       "       CPU_0  CPU_1  CPU_2  CPU_3  CPU_4  CPU_5  CPU_6  CPU_7\n",
       "0        3.0    1.0    1.0    0.0    1.0   -2.0    0.0    2.0\n",
       "1        3.0    1.0    1.0    0.0    1.0   -2.0    0.0    2.0\n",
       "2        5.0   -1.0    1.0    0.0    1.0   -2.0   -1.0    3.0\n",
       "3        4.0    1.0    1.0    0.0    0.0   -2.0    0.0    2.0\n",
       "4        3.0    1.0    1.0    0.0    1.0   -2.0    0.0    2.0\n",
       "...      ...    ...    ...    ...    ...    ...    ...    ...\n",
       "15315    6.0   -1.0    1.0    0.0    1.0   -2.0   -1.0    2.0\n",
       "15316    6.0   -1.0    1.0    0.0    1.0   -2.0   -1.0    2.0\n",
       "15317    6.0    0.0    2.0    1.0    3.0   -2.0    1.0    3.0\n",
       "15318    6.0   -1.0    1.0    0.0    1.0   -2.0   -1.0    2.0\n",
       "15319    6.0    0.0    2.0    1.0    3.0   -2.0    1.0    3.0\n",
       "\n",
       "[15320 rows x 8 columns]"
      ]
     },
     "execution_count": 1318,
     "metadata": {},
     "output_type": "execute_result"
    }
   ],
   "source": [
    "cpu2"
   ]
  },
  {
   "cell_type": "markdown",
   "metadata": {},
   "source": [
    "### GPU"
   ]
  },
  {
   "cell_type": "code",
   "execution_count": 1288,
   "metadata": {},
   "outputs": [
    {
     "data": {
      "text/plain": [
       "Intel HD Graphics 620      3320\n",
       "Intel HD Graphics 520      2196\n",
       "Nvidia GeForce GTX 1050     780\n",
       "Intel UHD Graphics 620      776\n",
       "Nvidia GeForce GTX 1060     572\n",
       "                           ... \n",
       "ARM Mali T860 MP4            12\n",
       "AMD Radeon Pro 560            8\n",
       "AMD Radeon Pro 555            8\n",
       "Intel Iris Pro Graphics       8\n",
       "AMD Radeon Pro 455            8\n",
       "Name: GPU, Length: 110, dtype: int64"
      ]
     },
     "execution_count": 1288,
     "metadata": {},
     "output_type": "execute_result"
    }
   ],
   "source": [
    "gpu2 = df['GPU'].copy()\n",
    "\n",
    "gpu2.value_counts()"
   ]
  },
  {
   "cell_type": "code",
   "execution_count": 1289,
   "metadata": {},
   "outputs": [
    {
     "data": {
      "text/plain": [
       "Intel HD Graphics 620      0.216710\n",
       "Intel HD Graphics 520      0.143342\n",
       "Nvidia GeForce GTX 1050    0.050914\n",
       "Intel UHD Graphics 620     0.050653\n",
       "Nvidia GeForce GTX 1060    0.037337\n",
       "                             ...   \n",
       "ARM Mali T860 MP4          0.000783\n",
       "AMD Radeon Pro 560         0.000522\n",
       "AMD Radeon Pro 555         0.000522\n",
       "Intel Iris Pro Graphics    0.000522\n",
       "AMD Radeon Pro 455         0.000522\n",
       "Name: GPU, Length: 110, dtype: float64"
      ]
     },
     "execution_count": 1289,
     "metadata": {},
     "output_type": "execute_result"
    }
   ],
   "source": [
    "gpu2.value_counts(normalize=True)"
   ]
  },
  {
   "cell_type": "markdown",
   "metadata": {},
   "source": [
    "Similar to cpu, Column contains an absurdly high cardinality of 110, and the percentages are spread quite evenly across many of the unique values. Hence, creating an 'other' category wil not be useful. <br>\n",
    "In the end, sklearn's feaure hasher was also used to encode the data."
   ]
  },
  {
   "cell_type": "code",
   "execution_count": 1322,
   "metadata": {},
   "outputs": [],
   "source": [
    "hash = FeatureHasher(n_features = 8, input_type='string')\n",
    "\n",
    "sp = hash.fit_transform(gpu2)\n",
    "gpu2 = pd.DataFrame.sparse.from_spmatrix(sp).sparse.to_dense()\n",
    "gpu2.columns = [f'GPU_{col}' for col in gpu2.columns]"
   ]
  },
  {
   "cell_type": "code",
   "execution_count": 1323,
   "metadata": {},
   "outputs": [
    {
     "data": {
      "text/html": [
       "<div>\n",
       "<style scoped>\n",
       "    .dataframe tbody tr th:only-of-type {\n",
       "        vertical-align: middle;\n",
       "    }\n",
       "\n",
       "    .dataframe tbody tr th {\n",
       "        vertical-align: top;\n",
       "    }\n",
       "\n",
       "    .dataframe thead th {\n",
       "        text-align: right;\n",
       "    }\n",
       "</style>\n",
       "<table border=\"1\" class=\"dataframe\">\n",
       "  <thead>\n",
       "    <tr style=\"text-align: right;\">\n",
       "      <th></th>\n",
       "      <th>GPU_0</th>\n",
       "      <th>GPU_1</th>\n",
       "      <th>GPU_2</th>\n",
       "      <th>GPU_3</th>\n",
       "      <th>GPU_4</th>\n",
       "      <th>GPU_5</th>\n",
       "      <th>GPU_6</th>\n",
       "      <th>GPU_7</th>\n",
       "    </tr>\n",
       "  </thead>\n",
       "  <tbody>\n",
       "    <tr>\n",
       "      <th>0</th>\n",
       "      <td>5.0</td>\n",
       "      <td>0.0</td>\n",
       "      <td>3.0</td>\n",
       "      <td>-1.0</td>\n",
       "      <td>1.0</td>\n",
       "      <td>-3.0</td>\n",
       "      <td>-1.0</td>\n",
       "      <td>-2.0</td>\n",
       "    </tr>\n",
       "    <tr>\n",
       "      <th>1</th>\n",
       "      <td>4.0</td>\n",
       "      <td>-1.0</td>\n",
       "      <td>2.0</td>\n",
       "      <td>-1.0</td>\n",
       "      <td>0.0</td>\n",
       "      <td>-2.0</td>\n",
       "      <td>0.0</td>\n",
       "      <td>0.0</td>\n",
       "    </tr>\n",
       "    <tr>\n",
       "      <th>2</th>\n",
       "      <td>4.0</td>\n",
       "      <td>1.0</td>\n",
       "      <td>2.0</td>\n",
       "      <td>-1.0</td>\n",
       "      <td>0.0</td>\n",
       "      <td>-2.0</td>\n",
       "      <td>0.0</td>\n",
       "      <td>1.0</td>\n",
       "    </tr>\n",
       "    <tr>\n",
       "      <th>3</th>\n",
       "      <td>2.0</td>\n",
       "      <td>1.0</td>\n",
       "      <td>2.0</td>\n",
       "      <td>3.0</td>\n",
       "      <td>1.0</td>\n",
       "      <td>0.0</td>\n",
       "      <td>2.0</td>\n",
       "      <td>1.0</td>\n",
       "    </tr>\n",
       "    <tr>\n",
       "      <th>4</th>\n",
       "      <td>6.0</td>\n",
       "      <td>0.0</td>\n",
       "      <td>3.0</td>\n",
       "      <td>-1.0</td>\n",
       "      <td>2.0</td>\n",
       "      <td>-3.0</td>\n",
       "      <td>-1.0</td>\n",
       "      <td>-2.0</td>\n",
       "    </tr>\n",
       "    <tr>\n",
       "      <th>...</th>\n",
       "      <td>...</td>\n",
       "      <td>...</td>\n",
       "      <td>...</td>\n",
       "      <td>...</td>\n",
       "      <td>...</td>\n",
       "      <td>...</td>\n",
       "      <td>...</td>\n",
       "      <td>...</td>\n",
       "    </tr>\n",
       "    <tr>\n",
       "      <th>15315</th>\n",
       "      <td>3.0</td>\n",
       "      <td>1.0</td>\n",
       "      <td>2.0</td>\n",
       "      <td>-1.0</td>\n",
       "      <td>1.0</td>\n",
       "      <td>-2.0</td>\n",
       "      <td>0.0</td>\n",
       "      <td>1.0</td>\n",
       "    </tr>\n",
       "    <tr>\n",
       "      <th>15316</th>\n",
       "      <td>3.0</td>\n",
       "      <td>1.0</td>\n",
       "      <td>2.0</td>\n",
       "      <td>-1.0</td>\n",
       "      <td>1.0</td>\n",
       "      <td>-2.0</td>\n",
       "      <td>0.0</td>\n",
       "      <td>1.0</td>\n",
       "    </tr>\n",
       "    <tr>\n",
       "      <th>15317</th>\n",
       "      <td>2.0</td>\n",
       "      <td>2.0</td>\n",
       "      <td>2.0</td>\n",
       "      <td>-1.0</td>\n",
       "      <td>0.0</td>\n",
       "      <td>-2.0</td>\n",
       "      <td>0.0</td>\n",
       "      <td>0.0</td>\n",
       "    </tr>\n",
       "    <tr>\n",
       "      <th>15318</th>\n",
       "      <td>3.0</td>\n",
       "      <td>1.0</td>\n",
       "      <td>3.0</td>\n",
       "      <td>2.0</td>\n",
       "      <td>2.0</td>\n",
       "      <td>0.0</td>\n",
       "      <td>2.0</td>\n",
       "      <td>1.0</td>\n",
       "    </tr>\n",
       "    <tr>\n",
       "      <th>15319</th>\n",
       "      <td>2.0</td>\n",
       "      <td>2.0</td>\n",
       "      <td>2.0</td>\n",
       "      <td>-1.0</td>\n",
       "      <td>0.0</td>\n",
       "      <td>-2.0</td>\n",
       "      <td>0.0</td>\n",
       "      <td>0.0</td>\n",
       "    </tr>\n",
       "  </tbody>\n",
       "</table>\n",
       "<p>15320 rows × 8 columns</p>\n",
       "</div>"
      ],
      "text/plain": [
       "       GPU_0  GPU_1  GPU_2  GPU_3  GPU_4  GPU_5  GPU_6  GPU_7\n",
       "0        5.0    0.0    3.0   -1.0    1.0   -3.0   -1.0   -2.0\n",
       "1        4.0   -1.0    2.0   -1.0    0.0   -2.0    0.0    0.0\n",
       "2        4.0    1.0    2.0   -1.0    0.0   -2.0    0.0    1.0\n",
       "3        2.0    1.0    2.0    3.0    1.0    0.0    2.0    1.0\n",
       "4        6.0    0.0    3.0   -1.0    2.0   -3.0   -1.0   -2.0\n",
       "...      ...    ...    ...    ...    ...    ...    ...    ...\n",
       "15315    3.0    1.0    2.0   -1.0    1.0   -2.0    0.0    1.0\n",
       "15316    3.0    1.0    2.0   -1.0    1.0   -2.0    0.0    1.0\n",
       "15317    2.0    2.0    2.0   -1.0    0.0   -2.0    0.0    0.0\n",
       "15318    3.0    1.0    3.0    2.0    2.0    0.0    2.0    1.0\n",
       "15319    2.0    2.0    2.0   -1.0    0.0   -2.0    0.0    0.0\n",
       "\n",
       "[15320 rows x 8 columns]"
      ]
     },
     "execution_count": 1323,
     "metadata": {},
     "output_type": "execute_result"
    }
   ],
   "source": [
    "gpu2"
   ]
  },
  {
   "cell_type": "markdown",
   "metadata": {},
   "source": [
    "### RAM"
   ]
  },
  {
   "cell_type": "code",
   "execution_count": 1158,
   "metadata": {},
   "outputs": [
    {
     "data": {
      "text/plain": [
       "8GB     7276\n",
       "4GB     4392\n",
       "16GB    2360\n",
       "6GB      492\n",
       "12GB     292\n",
       "2GB      256\n",
       "32GB     204\n",
       "24GB      36\n",
       "64GB      12\n",
       "Name: RAM, dtype: int64"
      ]
     },
     "execution_count": 1158,
     "metadata": {},
     "output_type": "execute_result"
    }
   ],
   "source": [
    "ram = df[\"RAM\"].copy()\n",
    "\n",
    "ram.value_counts()"
   ]
  },
  {
   "cell_type": "markdown",
   "metadata": {},
   "source": [
    "RAM contains the GB units, hence it needs to be cleaned"
   ]
  },
  {
   "cell_type": "code",
   "execution_count": 1159,
   "metadata": {},
   "outputs": [
    {
     "data": {
      "text/html": [
       "<div>\n",
       "<style scoped>\n",
       "    .dataframe tbody tr th:only-of-type {\n",
       "        vertical-align: middle;\n",
       "    }\n",
       "\n",
       "    .dataframe tbody tr th {\n",
       "        vertical-align: top;\n",
       "    }\n",
       "\n",
       "    .dataframe thead th {\n",
       "        text-align: right;\n",
       "    }\n",
       "</style>\n",
       "<table border=\"1\" class=\"dataframe\">\n",
       "  <thead>\n",
       "    <tr style=\"text-align: right;\">\n",
       "      <th></th>\n",
       "      <th>RAM (GB)</th>\n",
       "    </tr>\n",
       "  </thead>\n",
       "  <tbody>\n",
       "    <tr>\n",
       "      <th>0</th>\n",
       "      <td>8</td>\n",
       "    </tr>\n",
       "    <tr>\n",
       "      <th>1</th>\n",
       "      <td>8</td>\n",
       "    </tr>\n",
       "    <tr>\n",
       "      <th>2</th>\n",
       "      <td>8</td>\n",
       "    </tr>\n",
       "    <tr>\n",
       "      <th>3</th>\n",
       "      <td>16</td>\n",
       "    </tr>\n",
       "    <tr>\n",
       "      <th>4</th>\n",
       "      <td>8</td>\n",
       "    </tr>\n",
       "    <tr>\n",
       "      <th>...</th>\n",
       "      <td>...</td>\n",
       "    </tr>\n",
       "    <tr>\n",
       "      <th>15315</th>\n",
       "      <td>4</td>\n",
       "    </tr>\n",
       "    <tr>\n",
       "      <th>15316</th>\n",
       "      <td>16</td>\n",
       "    </tr>\n",
       "    <tr>\n",
       "      <th>15317</th>\n",
       "      <td>2</td>\n",
       "    </tr>\n",
       "    <tr>\n",
       "      <th>15318</th>\n",
       "      <td>6</td>\n",
       "    </tr>\n",
       "    <tr>\n",
       "      <th>15319</th>\n",
       "      <td>4</td>\n",
       "    </tr>\n",
       "  </tbody>\n",
       "</table>\n",
       "<p>15320 rows × 1 columns</p>\n",
       "</div>"
      ],
      "text/plain": [
       "       RAM (GB)\n",
       "0             8\n",
       "1             8\n",
       "2             8\n",
       "3            16\n",
       "4             8\n",
       "...         ...\n",
       "15315         4\n",
       "15316        16\n",
       "15317         2\n",
       "15318         6\n",
       "15319         4\n",
       "\n",
       "[15320 rows x 1 columns]"
      ]
     },
     "execution_count": 1159,
     "metadata": {},
     "output_type": "execute_result"
    }
   ],
   "source": [
    "ram = ram.str.extract(r'(\\d+)').astype('int')\n",
    "ram.columns = ['RAM (GB)']\n",
    "\n",
    "ram"
   ]
  },
  {
   "cell_type": "markdown",
   "metadata": {},
   "source": [
    "### Weight"
   ]
  },
  {
   "cell_type": "code",
   "execution_count": 1160,
   "metadata": {},
   "outputs": [
    {
     "data": {
      "text/plain": [
       "2.2kg     1408\n",
       "2.1kg      680\n",
       "2.4kg      524\n",
       "2.3kg      480\n",
       "2.5kg      448\n",
       "          ... \n",
       "1.19kg      12\n",
       "4.7kg       12\n",
       "1.55kg      12\n",
       "1.18kg      12\n",
       "4.0kg       12\n",
       "Name: Weight, Length: 179, dtype: int64"
      ]
     },
     "execution_count": 1160,
     "metadata": {},
     "output_type": "execute_result"
    }
   ],
   "source": [
    "weight = df[\"Weight\"].copy()\n",
    "\n",
    "weight.value_counts()"
   ]
  },
  {
   "cell_type": "markdown",
   "metadata": {},
   "source": [
    "Weight also contains units, needs to be cleaned"
   ]
  },
  {
   "cell_type": "code",
   "execution_count": 1161,
   "metadata": {},
   "outputs": [
    {
     "data": {
      "text/html": [
       "<div>\n",
       "<style scoped>\n",
       "    .dataframe tbody tr th:only-of-type {\n",
       "        vertical-align: middle;\n",
       "    }\n",
       "\n",
       "    .dataframe tbody tr th {\n",
       "        vertical-align: top;\n",
       "    }\n",
       "\n",
       "    .dataframe thead th {\n",
       "        text-align: right;\n",
       "    }\n",
       "</style>\n",
       "<table border=\"1\" class=\"dataframe\">\n",
       "  <thead>\n",
       "    <tr style=\"text-align: right;\">\n",
       "      <th></th>\n",
       "      <th>Weight (kg)</th>\n",
       "    </tr>\n",
       "  </thead>\n",
       "  <tbody>\n",
       "    <tr>\n",
       "      <th>0</th>\n",
       "      <td>1.37</td>\n",
       "    </tr>\n",
       "    <tr>\n",
       "      <th>1</th>\n",
       "      <td>1.34</td>\n",
       "    </tr>\n",
       "    <tr>\n",
       "      <th>2</th>\n",
       "      <td>1.86</td>\n",
       "    </tr>\n",
       "    <tr>\n",
       "      <th>3</th>\n",
       "      <td>1.83</td>\n",
       "    </tr>\n",
       "    <tr>\n",
       "      <th>4</th>\n",
       "      <td>1.37</td>\n",
       "    </tr>\n",
       "    <tr>\n",
       "      <th>...</th>\n",
       "      <td>...</td>\n",
       "    </tr>\n",
       "    <tr>\n",
       "      <th>15315</th>\n",
       "      <td>1.80</td>\n",
       "    </tr>\n",
       "    <tr>\n",
       "      <th>15316</th>\n",
       "      <td>1.30</td>\n",
       "    </tr>\n",
       "    <tr>\n",
       "      <th>15317</th>\n",
       "      <td>1.50</td>\n",
       "    </tr>\n",
       "    <tr>\n",
       "      <th>15318</th>\n",
       "      <td>2.19</td>\n",
       "    </tr>\n",
       "    <tr>\n",
       "      <th>15319</th>\n",
       "      <td>2.20</td>\n",
       "    </tr>\n",
       "  </tbody>\n",
       "</table>\n",
       "<p>15320 rows × 1 columns</p>\n",
       "</div>"
      ],
      "text/plain": [
       "       Weight (kg)\n",
       "0             1.37\n",
       "1             1.34\n",
       "2             1.86\n",
       "3             1.83\n",
       "4             1.37\n",
       "...            ...\n",
       "15315         1.80\n",
       "15316         1.30\n",
       "15317         1.50\n",
       "15318         2.19\n",
       "15319         2.20\n",
       "\n",
       "[15320 rows x 1 columns]"
      ]
     },
     "execution_count": 1161,
     "metadata": {},
     "output_type": "execute_result"
    }
   ],
   "source": [
    "weight = weight.str.extract(r'(\\d+[.]\\d+|\\d+)').astype('float') #extract digit.digit or digit\n",
    "weight.columns = ['Weight (kg)']\n",
    "\n",
    "weight"
   ]
  },
  {
   "cell_type": "markdown",
   "metadata": {},
   "source": [
    "# Final Transformed Dataset"
   ]
  },
  {
   "cell_type": "code",
   "execution_count": 1162,
   "metadata": {},
   "outputs": [],
   "source": [
    "df_cols = [\n",
    "    brand,\n",
    "    df[\"Type\"],\n",
    "    df[\"Screen Size\"],\n",
    "    df[\"Operating System\"],\n",
    "    screen_resolution,\n",
    "    screen_specs,\n",
    "    hard_disk,\n",
    "    cpu2,\n",
    "    gpu2,\n",
    "    ram,\n",
    "    weight,\n",
    "    df[\"Price ($)\"],\n",
    "]\n",
    "\n",
    "df_tf = pd.concat(df_cols, axis=1)\n",
    "df_tf = df_tf.convert_dtypes()"
   ]
  },
  {
   "cell_type": "code",
   "execution_count": 1163,
   "metadata": {},
   "outputs": [
    {
     "name": "stdout",
     "output_type": "stream",
     "text": [
      "<class 'pandas.core.frame.DataFrame'>\n",
      "RangeIndex: 15320 entries, 0 to 15319\n",
      "Data columns (total 30 columns):\n",
      " #   Column            Non-Null Count  Dtype  \n",
      "---  ------            --------------  -----  \n",
      " 0   Brand             15320 non-null  string \n",
      " 1   Type              15320 non-null  string \n",
      " 2   Screen Size       15320 non-null  Float64\n",
      " 3   Operating System  15320 non-null  string \n",
      " 4   Resolution        15320 non-null  string \n",
      " 5   ips               15320 non-null  Int64  \n",
      " 6   touchscreen       15320 non-null  Int64  \n",
      " 7   SSD (GB)          15320 non-null  Int64  \n",
      " 8   HDD (GB)          15320 non-null  Int64  \n",
      " 9   Flash (GB)        15320 non-null  Int64  \n",
      " 10  Hybrid (GB)       15320 non-null  Int64  \n",
      " 11  CPU_0             15320 non-null  Int64  \n",
      " 12  CPU_1             15320 non-null  Int64  \n",
      " 13  CPU_2             15320 non-null  Int64  \n",
      " 14  CPU_3             15320 non-null  Int64  \n",
      " 15  CPU_4             15320 non-null  Int64  \n",
      " 16  CPU_5             15320 non-null  Int64  \n",
      " 17  CPU_6             15320 non-null  Int64  \n",
      " 18  CPU_7             15320 non-null  Int64  \n",
      " 19  GPU_0             15320 non-null  Int64  \n",
      " 20  GPU_1             15320 non-null  Int64  \n",
      " 21  GPU_2             15320 non-null  Int64  \n",
      " 22  GPU_3             15320 non-null  Int64  \n",
      " 23  GPU_4             15320 non-null  Int64  \n",
      " 24  GPU_5             15320 non-null  Int64  \n",
      " 25  GPU_6             15320 non-null  Int64  \n",
      " 26  GPU_7             15320 non-null  Int64  \n",
      " 27  RAM (GB)          15320 non-null  Int32  \n",
      " 28  Weight (kg)       15320 non-null  Float64\n",
      " 29  Price ($)         15320 non-null  Float64\n",
      "dtypes: Float64(3), Int32(1), Int64(22), string(4)\n",
      "memory usage: 3.8 MB\n"
     ]
    }
   ],
   "source": [
    "df_tf.info()"
   ]
  },
  {
   "cell_type": "markdown",
   "metadata": {},
   "source": [
    "# Modelling"
   ]
  },
  {
   "cell_type": "code",
   "execution_count": 1298,
   "metadata": {},
   "outputs": [],
   "source": [
    "X = df_tf.copy().drop('Price ($)', axis=1)\n",
    "y = df_tf['Price ($)']"
   ]
  },
  {
   "cell_type": "code",
   "execution_count": 1299,
   "metadata": {},
   "outputs": [
    {
     "name": "stdout",
     "output_type": "stream",
     "text": [
      "X_train: (11490, 29)\n",
      "y_train: (11490,)\n",
      "X_test: (3830, 29)\n",
      "y_test: (3830,)\n"
     ]
    }
   ],
   "source": [
    "from sklearn.model_selection import train_test_split\n",
    "\n",
    "X_train, X_test, y_train, y_test = train_test_split(X, y, random_state=39)\n",
    "\n",
    "print(f\"X_train: {X_train.shape}\")\n",
    "print(f\"y_train: {y_train.shape}\")\n",
    "print(f\"X_test: {X_test.shape}\")\n",
    "print(f\"y_test: {y_test.shape}\")"
   ]
  },
  {
   "cell_type": "markdown",
   "metadata": {},
   "source": [
    "## sklearn libraries"
   ]
  },
  {
   "cell_type": "code",
   "execution_count": 1166,
   "metadata": {},
   "outputs": [],
   "source": [
    "from sklearn.preprocessing import StandardScaler\n",
    "from sklearn.preprocessing import OrdinalEncoder, OneHotEncoder\n",
    "\n",
    "from sklearn.compose import make_column_transformer\n",
    "\n",
    "\n",
    "from sklearn.pipeline import Pipeline"
   ]
  },
  {
   "cell_type": "markdown",
   "metadata": {},
   "source": [
    "## Compose Transformers"
   ]
  },
  {
   "cell_type": "code",
   "execution_count": 1167,
   "metadata": {},
   "outputs": [],
   "source": [
    "from sklearn.base import BaseEstimator, TransformerMixin\n",
    "\n",
    "#dummytransformer which acts as a base to inherit fit and transform methods\n",
    "class DummyTransformer(BaseEstimator, TransformerMixin):\n",
    "    def __init__(self):\n",
    "        return None\n",
    "\n",
    "    def fit(self, X=None, y=None):\n",
    "        return self\n",
    "\n",
    "    def transform(self, X=None, y=None):\n",
    "        return self\n",
    "\n",
    "\n",
    "##Wrapper for pipeline transformers to output a dataframe\n",
    "# from the transformer's numpy array output and get_feature_names_out method\n",
    "# used to ensure dataframes get passed between pipelines steps to allow for column slicing\n",
    "class DF_Transformer(DummyTransformer):\n",
    "    def __init__(self, transformer):\n",
    "        self.transformer = transformer\n",
    "        self.feature_names_in_ = None\n",
    "\n",
    "    def fit(self, X, y=None):\n",
    "        self.transformer = self.transformer.fit(X)\n",
    "\n",
    "        names = self.transformer.get_feature_names_out()\n",
    "        cleaned_names = pd.Series(names).str.replace(r\"(\\w*[_]{2})\", \"\", regex=True)\n",
    "        self.feature_names_in_ = cleaned_names\n",
    "\n",
    "        return self\n",
    "\n",
    "    def transform(self, X, y=None):\n",
    "        # display(X.head())\n",
    "        # print(self.feature_names_in_)\n",
    "        data = self.transformer.transform(X)\n",
    "\n",
    "        # display(data[:5])\n",
    "\n",
    "        cols = self.feature_names_in_\n",
    "        return pd.DataFrame(\n",
    "            data=data,\n",
    "            columns=cols.values,\n",
    "        ).convert_dtypes()\n",
    "\n",
    "    def get_feature_names_out(self, input_features=None):\n",
    "        return self.feature_names_in_"
   ]
  },
  {
   "cell_type": "code",
   "execution_count": 1301,
   "metadata": {},
   "outputs": [],
   "source": [
    "\n",
    "numeric_features = [\n",
    "    \"SSD (GB)\",\n",
    "    \"HDD (GB)\",\n",
    "    \"Flash (GB)\",\n",
    "    \"Hybrid (GB)\",\n",
    "    \"RAM (GB)\",\n",
    "    \"Weight (kg)\",\n",
    "    \"Screen Size\",\n",
    "]\n",
    "stdScaler_ct = make_column_transformer(\n",
    "    (StandardScaler(),numeric_features),\n",
    "    remainder=\"passthrough\",\n",
    "    verbose_feature_names_out=False,\n",
    ")\n",
    "\n",
    "asc_resolution = X[\"Resolution\"].sort_values().value_counts().index\n",
    "encoder_ct = make_column_transformer(\n",
    "    (OrdinalEncoder(categories=[asc_resolution]), [\"Resolution\"]),\n",
    "    (OneHotEncoder(drop=\"first\"), [\"Brand\", \"Type\", \"Operating System\"]),\n",
    "    remainder=\"passthrough\",\n",
    "    verbose_feature_names_out=False,\n",
    ")"
   ]
  },
  {
   "cell_type": "markdown",
   "metadata": {},
   "source": [
    "## Compose Pipelines"
   ]
  },
  {
   "cell_type": "code",
   "execution_count": 1302,
   "metadata": {},
   "outputs": [
    {
     "data": {
      "text/plain": [
       "'\\nsteps applied:\\nscaling quantitative data\\nordinal encoding resolution\\nonhot encoding brand, tpye, os\\n'"
      ]
     },
     "execution_count": 1302,
     "metadata": {},
     "output_type": "execute_result"
    }
   ],
   "source": [
    "preprocessor_pipe = Pipeline(steps=[\n",
    "    ('Scaling', DF_Transformer(stdScaler_ct)),\n",
    "    ('Encoding', DF_Transformer(encoder_ct)),\n",
    "])\n",
    "\n",
    "'''\n",
    "steps applied:\n",
    "scaling quantitative data\n",
    "ordinal encoding resolution\n",
    "onhot encoding brand, tpye, os\n",
    "'''"
   ]
  },
  {
   "cell_type": "markdown",
   "metadata": {},
   "source": [
    "## Model Selection"
   ]
  },
  {
   "cell_type": "markdown",
   "metadata": {},
   "source": [
    "<h1> Evaluation Metric </h1>"
   ]
  },
  {
   "cell_type": "markdown",
   "metadata": {},
   "source": [
    "Mean-absolute-error, MAE, is used as we want the model to predict prices of computers. Price errors of $100 or maybe even $50 may fall outside of a person's budget, hence we cannot afford to evaluate scores that are off the inherent scales and units of the data. Hence, MAE, which does not scale the data's units in any way can be used"
   ]
  },
  {
   "cell_type": "code",
   "execution_count": 1171,
   "metadata": {},
   "outputs": [],
   "source": [
    "from sklearn.dummy import DummyRegressor\n",
    "from sklearn.linear_model import LinearRegression\n",
    "from sklearn.linear_model import Ridge, Lasso\n",
    "from sklearn.tree import DecisionTreeRegressor\n",
    "from sklearn.neighbors import KNeighborsRegressor\n",
    "from sklearn.ensemble import RandomForestRegressor"
   ]
  },
  {
   "cell_type": "code",
   "execution_count": 1172,
   "metadata": {},
   "outputs": [],
   "source": [
    "from sklearn.base import clone\n",
    "\n",
    "from sklearn.model_selection import learning_curve\n",
    "from sklearn.model_selection import KFold"
   ]
  },
  {
   "cell_type": "code",
   "execution_count": 1173,
   "metadata": {},
   "outputs": [],
   "source": [
    "# function for plotting learning curve for models\n",
    "# modified from https://scikit-learn.org/stable/auto_examples/model_selection/plot_learning_curve.html\n",
    "def plot_learning_curve(\n",
    "    estimator,\n",
    "    title,\n",
    "    X,\n",
    "    y,\n",
    "    axes,\n",
    "    ylim=None,\n",
    "    cv=None,\n",
    "    n_jobs=4,\n",
    "    train_sizes=np.linspace(0.1, 1.0, 10),\n",
    "    scoring=\"max_error\",\n",
    "    scoring_name=None,\n",
    "):\n",
    "\n",
    "    axes.set_title(title)\n",
    "    if ylim is not None:\n",
    "        axes.set_ylim(*ylim)\n",
    "    if scoring_name is None:\n",
    "        scoring_name = scoring\n",
    "    axes.set_xlabel(\"Training examples\")\n",
    "    axes.set_ylabel(scoring_name)\n",
    "\n",
    "    train_sizes, train_scores, test_scores = learning_curve(\n",
    "        estimator,\n",
    "        X,\n",
    "        y,\n",
    "        cv=cv,\n",
    "        n_jobs=n_jobs,\n",
    "        train_sizes=train_sizes,\n",
    "        scoring=scoring,\n",
    "    )\n",
    "\n",
    "    train_scores_mean = np.mean(train_scores, axis=1)\n",
    "    #print(train_scores_mean)\n",
    "    train_scores_std = np.std(train_scores, axis=1)\n",
    "    test_scores_mean = np.mean(test_scores, axis=1)\n",
    "    #print(test_scores_mean)\n",
    "    test_scores_std = np.std(test_scores, axis=1)\n",
    "\n",
    "    # Plot learning curve\n",
    "    axes.grid(True)\n",
    "    axes.fill_between(\n",
    "        train_sizes,\n",
    "        train_scores_mean - train_scores_std,\n",
    "        train_scores_mean + train_scores_std,\n",
    "        alpha=0.1,\n",
    "        color=\"r\",\n",
    "    )\n",
    "    axes.fill_between(\n",
    "        train_sizes,\n",
    "        test_scores_mean - test_scores_std,\n",
    "        test_scores_mean + test_scores_std,\n",
    "        alpha=0.1,\n",
    "        color=\"g\",\n",
    "    )\n",
    "    axes.plot(train_sizes, train_scores_mean, \"o-\", color=\"r\", label=\"Training score\")\n",
    "    axes.plot(\n",
    "        train_sizes, test_scores_mean, \"o-\", color=\"g\", label=\"Cross-validation score\"\n",
    "    )\n",
    "    axes.legend(loc=\"best\")\n",
    "\n",
    "    # Annotate learning curve\n",
    "    for x, y in zip(train_sizes, train_scores_mean):\n",
    "        value = round(y, 3)\n",
    "        axes.annotate(\n",
    "            text=value,\n",
    "            xy=(x, y),\n",
    "            color=\"r\",\n",
    "            ha=\"center\",\n",
    "            xytext=(0, 5),\n",
    "            textcoords=\"offset points\",\n",
    "        )\n",
    "    for x, y in zip(train_sizes, test_scores_mean):\n",
    "        value = round(y, 3)\n",
    "        axes.annotate(\n",
    "            text=value,\n",
    "            xy=(x, y),\n",
    "            color=\"g\",\n",
    "            ha=\"center\",\n",
    "            xytext=(0, -5),\n",
    "            textcoords=\"offset points\",\n",
    "        )"
   ]
  },
  {
   "cell_type": "code",
   "execution_count": 1174,
   "metadata": {},
   "outputs": [],
   "source": [
    "#takes in dict of models and executes plot learning curve on them\n",
    "def model_selection(models, pipeline, X_train, y_train, lc_kwargs, total_cols=3):\n",
    "\n",
    "    num_plots = len(models)\n",
    "    total_rows = num_plots // total_cols + 1\n",
    "    \n",
    "    \n",
    "    lc_fig, axs = plt.subplots(\n",
    "        nrows=total_rows,\n",
    "        ncols=total_cols,\n",
    "        figsize=(7 * total_cols, 4 * total_rows),\n",
    "        constrained_layout=True,\n",
    "    )\n",
    "\n",
    "    for i, (mdl_name, mdl) in enumerate(models.items()):\n",
    "        pipe_clone = clone(pipeline)\n",
    "        pipe_clone.steps.append((mdl_name, mdl))\n",
    "\n",
    "        row = i // total_cols\n",
    "        col = i % total_cols\n",
    "\n",
    "        print(f\"Cross Validating {mdl_name}...\", end=\"  \")\n",
    "        plot_learning_curve(\n",
    "            pipe_clone, mdl_name, X_train, y_train, axes=axs[row][col], **lc_kwargs\n",
    "        )\n",
    "        print(f\"{mdl_name} done!\")\n",
    "\n",
    "    for ax in axs.flat[num_plots:]:\n",
    "        ax.set_axis_off()"
   ]
  },
  {
   "cell_type": "code",
   "execution_count": 1188,
   "metadata": {},
   "outputs": [],
   "source": [
    "def feat_importance(model):\n",
    "    feat_imp = model.feature_importances_\n",
    "    feat_imp_names = model.feature_names_in_\n",
    "\n",
    "    return pd.Series(feat_imp, index=feat_imp_names, name='Feature Importance').sort_values(ascending=False)"
   ]
  },
  {
   "cell_type": "code",
   "execution_count": 1175,
   "metadata": {},
   "outputs": [],
   "source": [
    "models = {\n",
    "    'Dummy': DummyRegressor(),\n",
    "    'LinReg': LinearRegression(),\n",
    "    'Ridge': Ridge(random_state=39),\n",
    "    'Lasso': Lasso(random_state=39),\n",
    "    'DeciTree': DecisionTreeRegressor(random_state=39),\n",
    "    'kNN': KNeighborsRegressor(),\n",
    "    'RForest': RandomForestRegressor(random_state=39)\n",
    "}\n",
    "lc_kwargs = {\n",
    "    \"cv\": KFold(n_splits=5, shuffle=True, random_state=39),\n",
    "    \"n_jobs\": 3,\n",
    "    \"scoring\": 'neg_mean_absolute_error'\n",
    "}\n"
   ]
  },
  {
   "cell_type": "code",
   "execution_count": 1176,
   "metadata": {},
   "outputs": [
    {
     "name": "stdout",
     "output_type": "stream",
     "text": [
      "Cross Validating Dummy...  Dummy done!\n",
      "Cross Validating LinReg...  LinReg done!\n",
      "Cross Validating Ridge...  Ridge done!\n",
      "Cross Validating Lasso...  Lasso done!\n",
      "Cross Validating DeciTree...  DeciTree done!\n",
      "Cross Validating kNN...  kNN done!\n",
      "Cross Validating RForest...  RForest done!\n"
     ]
    },
    {
     "data": {
      "image/png": "[encoded data removed]",
      "text/plain": [
       "<Figure size 1512x864 with 9 Axes>"
      ]
     },
     "metadata": {},
     "output_type": "display_data"
    }
   ],
   "source": [
    "lc = model_selection(models, preprocessor_pipe, X_train, y_train, lc_kwargs=lc_kwargs)"
   ]
  },
  {
   "cell_type": "markdown",
   "metadata": {},
   "source": [
    "<h4>CV Results:</h4>\n",
    "Dummy perforemd the worse, as expected, converging to a mean-abs-error of aroun $1400\n",
    "<br>\n",
    "LinReg, Ridge and Lasso all performed about the same, scoring around a mean-abs-error of $635. Their curves suggest that the models are underfitted as their converged errors are quite large with large standard deviations.\n",
    "<br>\n",
    "Rforest Regressor, DeciTree and kNN all performed relatively well, converging to a mean-absolute-error of $40 or less with small standard deviations. The curves also showcase that the models are not under or overfitting the data.\n",
    "<br>\n",
    "kNN performs the best out of the models, converging to $20 mean absolute error."
   ]
  },
  {
   "cell_type": "code",
   "execution_count": 1305,
   "metadata": {},
   "outputs": [],
   "source": [
    "selected_models = {\n",
    "    'Dummy': DummyRegressor(),\n",
    "    'DeciTree': DecisionTreeRegressor(random_state=39),\n",
    "    \"kNN\": KNeighborsRegressor(),\n",
    "    \"RForest\": RandomForestRegressor(random_state=39),\n",
    "}\n",
    "\n",
    "from sklearn.metrics import mean_absolute_error\n",
    "from sklearn.metrics import make_scorer\n",
    "\n",
    "mae_scorer = make_scorer(mean_absolute_error)"
   ]
  },
  {
   "cell_type": "code",
   "execution_count": 1306,
   "metadata": {},
   "outputs": [],
   "source": [
    "scores = {}\n",
    "\n",
    "for name, model in selected_models.items():\n",
    "    pipe = clone(preprocessor_pipe)\n",
    "    pipe.steps.append((name, model))\n",
    "    pipe.fit(X_train, y_train)\n",
    "\n",
    "    scores[name] = mae_scorer(pipe, X_test, y_test)"
   ]
  },
  {
   "cell_type": "code",
   "execution_count": 1307,
   "metadata": {},
   "outputs": [
    {
     "name": "stdout",
     "output_type": "stream",
     "text": [
      "Dummy: MAE = 1423.838838972883\n",
      "DeciTree: MAE = 17.08172771149828\n",
      "kNN: MAE = 18.89990070809402\n",
      "RForest: MAE = 17.627977903076165\n"
     ]
    }
   ],
   "source": [
    "for name, score in scores.items():\n",
    "    print(f'{name}: MAE = {score}')"
   ]
  },
  {
   "cell_type": "markdown",
   "metadata": {},
   "source": [
    "DeciTree had the lowest MAE, hence it is selected as the next model for further tunig"
   ]
  },
  {
   "cell_type": "code",
   "execution_count": 1272,
   "metadata": {},
   "outputs": [
    {
     "data": {
      "text/plain": [
       "RAM (GB)                         5.933824e-01\n",
       "Weight (kg)                      8.747712e-02\n",
       "Type_Notebook                    5.346571e-02\n",
       "SSD (GB)                         3.746983e-02\n",
       "Screen Size                      2.380861e-02\n",
       "CPU_7                            2.153445e-02\n",
       "GPU_5                            1.913772e-02\n",
       "Resolution                       1.864580e-02\n",
       "CPU_4                            1.693885e-02\n",
       "GPU_4                            1.630294e-02\n",
       "CPU_6                            1.457611e-02\n",
       "Type_Workstation                 1.404512e-02\n",
       "GPU_2                            1.023901e-02\n",
       "GPU_0                            7.399808e-03\n",
       "Operating System_Windows 7       6.841525e-03\n",
       "GPU_1                            6.767901e-03\n",
       "Brand_Asus                       6.410687e-03\n",
       "CPU_0                            6.219265e-03\n",
       "Brand_Lenovo                     6.091587e-03\n",
       "Brand_Other                      4.056862e-03\n",
       "touchscreen                      3.866436e-03\n",
       "Brand_HP                         3.205136e-03\n",
       "ips                              3.124878e-03\n",
       "GPU_3                            2.997409e-03\n",
       "Brand_Dell                       2.871256e-03\n",
       "HDD (GB)                         2.412062e-03\n",
       "Operating System_Windows 10      2.111474e-03\n",
       "Operating System_No OS           1.802127e-03\n",
       "GPU_7                            1.425748e-03\n",
       "CPU_1                            1.194397e-03\n",
       "Type_Ultrabook                   8.987720e-04\n",
       "Operating System_Linux           8.056441e-04\n",
       "GPU_6                            6.724077e-04\n",
       "Brand_MSI                        3.725079e-04\n",
       "Flash (GB)                       3.349632e-04\n",
       "Type_Gaming                      3.268796e-04\n",
       "CPU_5                            2.347954e-04\n",
       "Hybrid (GB)                      2.059435e-04\n",
       "Type_Netbook                     1.554732e-04\n",
       "CPU_3                            1.166861e-04\n",
       "Operating System_macOS           1.863598e-05\n",
       "Operating System_Chrome OS       1.808044e-05\n",
       "Operating System_Windows 10 S    1.392383e-05\n",
       "CPU_2                            2.770249e-06\n",
       "Operating System_Mac OS X        2.536044e-07\n",
       "Name: Feature Importance, dtype: float64"
      ]
     },
     "execution_count": 1272,
     "metadata": {},
     "output_type": "execute_result"
    }
   ],
   "source": [
    "pipe = clone(preprocessor_pipe)\n",
    "pipe.steps.append(('DeciTree',  DecisionTreeRegressor(random_state=39)))\n",
    "pipe.fit(X_train, y_train)\n",
    "\n",
    "feat_importance(pipe[-1])"
   ]
  },
  {
   "cell_type": "markdown",
   "metadata": {},
   "source": [
    "# Model Improvement"
   ]
  },
  {
   "cell_type": "markdown",
   "metadata": {},
   "source": [
    "### Feature transformations"
   ]
  },
  {
   "cell_type": "markdown",
   "metadata": {},
   "source": [
    "Earlier, when transforming the CPU and GPU columns, they were feature hashed due to the large cardinality of over 100 and the complex structure making it hard to extract groups of keywords while maintaining the diversity found in the feature. However, if we are willing to lose the diversity of these features, we can simply extract the first word from these columns which represents the brand of the component. This will shrink down the dimension into only a handful of unique values. This might potentially improve performance by reudcing the number of total features in the dataset"
   ]
  },
  {
   "cell_type": "markdown",
   "metadata": {},
   "source": [
    "#### CPU"
   ]
  },
  {
   "cell_type": "code",
   "execution_count": 1206,
   "metadata": {},
   "outputs": [
    {
     "data": {
      "text/plain": [
       "Intel Core i5 7200U 2.5GHz     2240\n",
       "Intel Core i7 7700HQ 2.8GHz    1732\n",
       "Intel Core i7 7500U 2.7GHz     1604\n",
       "Intel Core i7 8550U 1.8GHz      836\n",
       "Intel Core i5 8250U 1.6GHz      820\n",
       "                               ... \n",
       "Intel Core i5 2.0GHz              8\n",
       "Intel Core i7 2.9GHz              8\n",
       "AMD E-Series E2-6110 1.5GHz       8\n",
       "Intel Core i7 2.7GHz              8\n",
       "Intel Atom x5-Z8300 1.44GHz       8\n",
       "Name: CPU, Length: 118, dtype: int64"
      ]
     },
     "execution_count": 1206,
     "metadata": {},
     "output_type": "execute_result"
    }
   ],
   "source": [
    "cpu = df['CPU'].copy()\n",
    "cpu.value_counts()"
   ]
  },
  {
   "cell_type": "code",
   "execution_count": 1207,
   "metadata": {},
   "outputs": [
    {
     "name": "stdout",
     "output_type": "stream",
     "text": [
      "Intel Core i5 7200U 2.5GHz     0.146214\n",
      "Intel Core i7 7700HQ 2.8GHz    0.113055\n",
      "Intel Core i7 7500U 2.7GHz     0.104700\n",
      "Intel Core i7 8550U 1.8GHz     0.054569\n",
      "Intel Core i5 8250U 1.6GHz     0.053525\n",
      "                                 ...   \n",
      "Intel Core i5 2.0GHz           0.000522\n",
      "Intel Core i7 2.9GHz           0.000522\n",
      "AMD E-Series E2-6110 1.5GHz    0.000522\n",
      "Intel Core i7 2.7GHz           0.000522\n",
      "Intel Atom x5-Z8300 1.44GHz    0.000522\n",
      "Name: CPU, Length: 118, dtype: float64\n"
     ]
    }
   ],
   "source": [
    "# with pd.option_context('display.max_rows', 200):\n",
    "print(cpu.value_counts(normalize=True))"
   ]
  },
  {
   "cell_type": "code",
   "execution_count": 1208,
   "metadata": {},
   "outputs": [],
   "source": [
    "split = cpu.str.split(\n",
    "    r\"((\\d+[.]\\d+[G][H][z])|(\\d+[G][H][z]))\", expand=True\n",
    ")  # regex syntax https://regexr.com/6nfd0\n",
    "\n",
    "cpu_speed = split[1]\n",
    "cpu = split[0].str.split(' ', expand=True)[0]\n",
    "cpu.name = 'CPU Brand'"
   ]
  },
  {
   "cell_type": "code",
   "execution_count": 1209,
   "metadata": {},
   "outputs": [
    {
     "data": {
      "text/plain": [
       "Intel      14588\n",
       "AMD          720\n",
       "Samsung       12\n",
       "Name: CPU Brand, dtype: int64"
      ]
     },
     "execution_count": 1209,
     "metadata": {},
     "output_type": "execute_result"
    }
   ],
   "source": [
    "cpu.value_counts(normalize=False)"
   ]
  },
  {
   "cell_type": "markdown",
   "metadata": {},
   "source": [
    "#### GPU"
   ]
  },
  {
   "cell_type": "code",
   "execution_count": 1210,
   "metadata": {},
   "outputs": [
    {
     "name": "stdout",
     "output_type": "stream",
     "text": [
      "Intel HD Graphics 620      0.216710\n",
      "Intel HD Graphics 520      0.143342\n",
      "Nvidia GeForce GTX 1050    0.050914\n",
      "Intel UHD Graphics 620     0.050653\n",
      "Nvidia GeForce GTX 1060    0.037337\n",
      "                             ...   \n",
      "ARM Mali T860 MP4          0.000783\n",
      "AMD Radeon Pro 560         0.000522\n",
      "AMD Radeon Pro 555         0.000522\n",
      "Intel Iris Pro Graphics    0.000522\n",
      "AMD Radeon Pro 455         0.000522\n",
      "Name: GPU, Length: 110, dtype: float64\n"
     ]
    }
   ],
   "source": [
    "gpu = df['GPU'].copy()\n",
    "\n",
    "#with pd.option_context('display.max_rows', 200):\n",
    "print(gpu.value_counts(normalize=True))"
   ]
  },
  {
   "cell_type": "code",
   "execution_count": 1211,
   "metadata": {},
   "outputs": [
    {
     "data": {
      "text/plain": [
       "0    Intel Iris Plus Graphics 640\n",
       "1          Intel HD Graphics 6000\n",
       "2           Intel HD Graphics 620\n",
       "3              AMD Radeon Pro 455\n",
       "4    Intel Iris Plus Graphics 650\n",
       "Name: GPU, dtype: object"
      ]
     },
     "execution_count": 1211,
     "metadata": {},
     "output_type": "execute_result"
    }
   ],
   "source": [
    "gpu.head()"
   ]
  },
  {
   "cell_type": "code",
   "execution_count": 1212,
   "metadata": {},
   "outputs": [
    {
     "data": {
      "text/plain": [
       "Intel     8488\n",
       "Nvidia    4736\n",
       "AMD       2084\n",
       "ARM         12\n",
       "Name: GPU Brand, dtype: int64"
      ]
     },
     "execution_count": 1212,
     "metadata": {},
     "output_type": "execute_result"
    }
   ],
   "source": [
    "gpu = gpu.str.split(' ', expand=True)[0]\n",
    "gpu.name = 'GPU Brand'\n",
    "\n",
    "gpu.value_counts()"
   ]
  },
  {
   "cell_type": "markdown",
   "metadata": {},
   "source": [
    "### Testing"
   ]
  },
  {
   "cell_type": "code",
   "execution_count": 1237,
   "metadata": {},
   "outputs": [
    {
     "data": {
      "text/html": [
       "<div>\n",
       "<style scoped>\n",
       "    .dataframe tbody tr th:only-of-type {\n",
       "        vertical-align: middle;\n",
       "    }\n",
       "\n",
       "    .dataframe tbody tr th {\n",
       "        vertical-align: top;\n",
       "    }\n",
       "\n",
       "    .dataframe thead th {\n",
       "        text-align: right;\n",
       "    }\n",
       "</style>\n",
       "<table border=\"1\" class=\"dataframe\">\n",
       "  <thead>\n",
       "    <tr style=\"text-align: right;\">\n",
       "      <th></th>\n",
       "      <th>Brand</th>\n",
       "      <th>Type</th>\n",
       "      <th>Screen Size</th>\n",
       "      <th>Operating System</th>\n",
       "      <th>Resolution</th>\n",
       "      <th>ips</th>\n",
       "      <th>touchscreen</th>\n",
       "      <th>SSD (GB)</th>\n",
       "      <th>HDD (GB)</th>\n",
       "      <th>Flash (GB)</th>\n",
       "      <th>Hybrid (GB)</th>\n",
       "      <th>CPU Brand</th>\n",
       "      <th>GPU Brand</th>\n",
       "      <th>RAM (GB)</th>\n",
       "      <th>Weight (kg)</th>\n",
       "      <th>Price ($)</th>\n",
       "    </tr>\n",
       "  </thead>\n",
       "  <tbody>\n",
       "    <tr>\n",
       "      <th>0</th>\n",
       "      <td>Other</td>\n",
       "      <td>Ultrabook</td>\n",
       "      <td>13.3</td>\n",
       "      <td>macOS</td>\n",
       "      <td>2560x1600</td>\n",
       "      <td>1</td>\n",
       "      <td>0</td>\n",
       "      <td>128</td>\n",
       "      <td>0</td>\n",
       "      <td>0</td>\n",
       "      <td>0</td>\n",
       "      <td>Intel</td>\n",
       "      <td>Intel</td>\n",
       "      <td>8</td>\n",
       "      <td>1.37</td>\n",
       "      <td>3568.93416</td>\n",
       "    </tr>\n",
       "    <tr>\n",
       "      <th>1</th>\n",
       "      <td>Other</td>\n",
       "      <td>Ultrabook</td>\n",
       "      <td>13.3</td>\n",
       "      <td>macOS</td>\n",
       "      <td>1440x900</td>\n",
       "      <td>0</td>\n",
       "      <td>0</td>\n",
       "      <td>0</td>\n",
       "      <td>0</td>\n",
       "      <td>128</td>\n",
       "      <td>0</td>\n",
       "      <td>Intel</td>\n",
       "      <td>Intel</td>\n",
       "      <td>8</td>\n",
       "      <td>1.34</td>\n",
       "      <td>2394.77616</td>\n",
       "    </tr>\n",
       "    <tr>\n",
       "      <th>2</th>\n",
       "      <td>HP</td>\n",
       "      <td>Notebook</td>\n",
       "      <td>15.6</td>\n",
       "      <td>No OS</td>\n",
       "      <td>1920x1080</td>\n",
       "      <td>0</td>\n",
       "      <td>0</td>\n",
       "      <td>256</td>\n",
       "      <td>0</td>\n",
       "      <td>0</td>\n",
       "      <td>0</td>\n",
       "      <td>Intel</td>\n",
       "      <td>Intel</td>\n",
       "      <td>8</td>\n",
       "      <td>1.86</td>\n",
       "      <td>1531.80000</td>\n",
       "    </tr>\n",
       "    <tr>\n",
       "      <th>3</th>\n",
       "      <td>Other</td>\n",
       "      <td>Ultrabook</td>\n",
       "      <td>15.4</td>\n",
       "      <td>macOS</td>\n",
       "      <td>2880x1800</td>\n",
       "      <td>1</td>\n",
       "      <td>0</td>\n",
       "      <td>512</td>\n",
       "      <td>0</td>\n",
       "      <td>0</td>\n",
       "      <td>0</td>\n",
       "      <td>Intel</td>\n",
       "      <td>AMD</td>\n",
       "      <td>16</td>\n",
       "      <td>1.83</td>\n",
       "      <td>6759.76680</td>\n",
       "    </tr>\n",
       "    <tr>\n",
       "      <th>4</th>\n",
       "      <td>Other</td>\n",
       "      <td>Ultrabook</td>\n",
       "      <td>13.3</td>\n",
       "      <td>macOS</td>\n",
       "      <td>2560x1600</td>\n",
       "      <td>1</td>\n",
       "      <td>0</td>\n",
       "      <td>256</td>\n",
       "      <td>0</td>\n",
       "      <td>0</td>\n",
       "      <td>0</td>\n",
       "      <td>Intel</td>\n",
       "      <td>Intel</td>\n",
       "      <td>8</td>\n",
       "      <td>1.37</td>\n",
       "      <td>4804.79040</td>\n",
       "    </tr>\n",
       "  </tbody>\n",
       "</table>\n",
       "</div>"
      ],
      "text/plain": [
       "   Brand       Type  Screen Size Operating System Resolution  ips  \\\n",
       "0  Other  Ultrabook         13.3            macOS  2560x1600    1   \n",
       "1  Other  Ultrabook         13.3            macOS   1440x900    0   \n",
       "2     HP   Notebook         15.6            No OS  1920x1080    0   \n",
       "3  Other  Ultrabook         15.4            macOS  2880x1800    1   \n",
       "4  Other  Ultrabook         13.3            macOS  2560x1600    1   \n",
       "\n",
       "   touchscreen  SSD (GB)  HDD (GB)  Flash (GB)  Hybrid (GB) CPU Brand  \\\n",
       "0            0       128         0           0            0     Intel   \n",
       "1            0         0         0         128            0     Intel   \n",
       "2            0       256         0           0            0     Intel   \n",
       "3            0       512         0           0            0     Intel   \n",
       "4            0       256         0           0            0     Intel   \n",
       "\n",
       "  GPU Brand  RAM (GB)  Weight (kg)   Price ($)  \n",
       "0     Intel         8         1.37  3568.93416  \n",
       "1     Intel         8         1.34  2394.77616  \n",
       "2     Intel         8         1.86  1531.80000  \n",
       "3       AMD        16         1.83  6759.76680  \n",
       "4     Intel         8         1.37  4804.79040  "
      ]
     },
     "execution_count": 1237,
     "metadata": {},
     "output_type": "execute_result"
    }
   ],
   "source": [
    "test_cols  = [\n",
    "    brand,\n",
    "    df[\"Type\"],\n",
    "    df[\"Screen Size\"],\n",
    "    df[\"Operating System\"],\n",
    "    screen_resolution,\n",
    "    screen_specs,\n",
    "    hard_disk,\n",
    "    cpu,\n",
    "    gpu,\n",
    "    ram,\n",
    "    weight,\n",
    "    df[\"Price ($)\"],\n",
    "]\n",
    "\n",
    "df_test = pd.concat(test_cols, axis=1)\n",
    "df_test.head()"
   ]
  },
  {
   "cell_type": "code",
   "execution_count": 1251,
   "metadata": {},
   "outputs": [],
   "source": [
    "X = df_test.copy().drop('Price ($)', axis=1)\n",
    "y = df_test['Price ($)']"
   ]
  },
  {
   "cell_type": "code",
   "execution_count": 1263,
   "metadata": {},
   "outputs": [],
   "source": [
    "tX_train, tX_test, ty_train, ty_test = train_test_split(X, y, random_state=39)"
   ]
  },
  {
   "cell_type": "code",
   "execution_count": 1264,
   "metadata": {},
   "outputs": [],
   "source": [
    "numeric_features = [\n",
    "    \"SSD (GB)\",\n",
    "    \"HDD (GB)\",\n",
    "    \"Flash (GB)\",\n",
    "    \"Hybrid (GB)\",\n",
    "    \"RAM (GB)\",\n",
    "    \"Weight (kg)\",\n",
    "    \"Screen Size\",\n",
    "]\n",
    "stdScaler_ct = make_column_transformer(\n",
    "    (StandardScaler(), numeric_features),\n",
    "    remainder=\"passthrough\",\n",
    "    verbose_feature_names_out=False,\n",
    ")\n",
    "\n",
    "asc_resolution = X[\"Resolution\"].sort_values().value_counts().index\n",
    "encoder_ct = make_column_transformer(\n",
    "    (OrdinalEncoder(categories=[asc_resolution]), [\"Resolution\"]),\n",
    "    (\n",
    "        OneHotEncoder(drop=\"first\"),\n",
    "        [\"Brand\", \"Type\", \"Operating System\", \"CPU Brand\", \"GPU Brand\"],\n",
    "    ),\n",
    "    remainder=\"passthrough\",\n",
    "    verbose_feature_names_out=False,\n",
    ")"
   ]
  },
  {
   "cell_type": "code",
   "execution_count": 1265,
   "metadata": {},
   "outputs": [],
   "source": [
    "test_preprocessor = Pipeline(steps=[\n",
    "    ('Scaling', DF_Transformer(stdScaler_ct)),\n",
    "    ('Encoding', DF_Transformer(encoder_ct)),\n",
    "])"
   ]
  },
  {
   "cell_type": "code",
   "execution_count": 1269,
   "metadata": {},
   "outputs": [
    {
     "data": {
      "image/png": "[encoded data removed]",
      "text/plain": [
       "<Figure size 432x288 with 1 Axes>"
      ]
     },
     "metadata": {},
     "output_type": "display_data"
    }
   ],
   "source": [
    "test_pipe = clone(test_preprocessor)\n",
    "test_pipe.steps.append(('DeciTree',  DecisionTreeRegressor(random_state=39)))\n",
    "\n",
    "test_pipe.fit(tX_train, ty_train)\n",
    "\n",
    "fig = plt.figure()\n",
    "ax = fig.add_axes([1,1,1,1])\n",
    "plot_learning_curve(\n",
    "    test_pipe,\n",
    "    'DeciTree',\n",
    "    tX_test,\n",
    "    ty_test,\n",
    "    axes=ax,\n",
    "    **lc_kwargs,\n",
    ")"
   ]
  },
  {
   "cell_type": "code",
   "execution_count": 1324,
   "metadata": {},
   "outputs": [
    {
     "data": {
      "text/plain": [
       "68.07623173404903"
      ]
     },
     "execution_count": 1324,
     "metadata": {},
     "output_type": "execute_result"
    }
   ],
   "source": [
    "mae_scorer(test_pipe, tX_test, ty_test)"
   ]
  },
  {
   "cell_type": "markdown",
   "metadata": {},
   "source": [
    "Model performs way worse after replacing the feature hashed CPU and GPU with smply extracting the brands.\n",
    "<br>\n",
    "Hence, the intial preprocessing is superior and should be used for the final model"
   ]
  },
  {
   "cell_type": "markdown",
   "metadata": {},
   "source": [
    "## Hyper Parameter Tuning"
   ]
  },
  {
   "cell_type": "code",
   "execution_count": 1275,
   "metadata": {},
   "outputs": [
    {
     "data": {
      "text/plain": [
       "{'ccp_alpha': 0.0,\n",
       " 'criterion': 'squared_error',\n",
       " 'max_depth': None,\n",
       " 'max_features': None,\n",
       " 'max_leaf_nodes': None,\n",
       " 'min_impurity_decrease': 0.0,\n",
       " 'min_samples_leaf': 1,\n",
       " 'min_samples_split': 2,\n",
       " 'min_weight_fraction_leaf': 0.0,\n",
       " 'random_state': 39,\n",
       " 'splitter': 'best'}"
      ]
     },
     "execution_count": 1275,
     "metadata": {},
     "output_type": "execute_result"
    }
   ],
   "source": [
    "pipe[-1].get_params()"
   ]
  },
  {
   "cell_type": "code",
   "execution_count": 1279,
   "metadata": {},
   "outputs": [],
   "source": [
    "from sklearn.model_selection import RandomizedSearchCV, GridSearchCV"
   ]
  },
  {
   "cell_type": "code",
   "execution_count": 1283,
   "metadata": {},
   "outputs": [],
   "source": [
    "param_dist = {\n",
    "    'DeciTree__ccp_alpha': [0, 0.1, 0.001, 0.0001],\n",
    "    'DeciTree__criterion': ['squared_error', 'absolute_error', 'poisson'],\n",
    "    'DeciTree__max_depth': [1, 10, 50, 100, 500, 1000, None],\n",
    "    'DeciTree__max_features' : ('log2', None, 'sqrt'),\n",
    "    'DeciTree__max_leaf_nodes': [2, 10, 50, 100, 500, 1000, None],\n",
    "    'DeciTree__min_impurity_decrease': [0.1, 0.01, 0.001, 0.3, 0.0],\n",
    "    'DeciTree__min_samples_leaf': [0.1, 0.01, 0.001, 2, 20, 70, 100, 1],\n",
    "    'DeciTree__min_samples_split': [0.1, 0.01, 0.001, 2, 20, 70, 100, 2],\n",
    "    'DeciTree__min_weight_fraction_leaf' : [0.1, 0.01, 0.001, 0.0001, 0.3, 0],\n",
    "    'DeciTree__splitter': ['best', 'random']\n",
    "}\n",
    "\n",
    "rsearc_kwargs = {\n",
    "    \"cv\": 10,\n",
    "    \"random_state\": 39,\n",
    "    \"n_jobs\": 4,\n",
    "    'n_iter': 200,\n",
    "    'scoring': mae_scorer\n",
    "}\n",
    "\n",
    "rand_search = RandomizedSearchCV(clone(pipe), param_dist, **rsearc_kwargs)"
   ]
  },
  {
   "cell_type": "code",
   "execution_count": 1284,
   "metadata": {},
   "outputs": [
    {
     "data": {
      "text/plain": [
       "{'DeciTree__splitter': 'best',\n",
       " 'DeciTree__min_weight_fraction_leaf': 0.3,\n",
       " 'DeciTree__min_samples_split': 0.001,\n",
       " 'DeciTree__min_samples_leaf': 0.001,\n",
       " 'DeciTree__min_impurity_decrease': 0.1,\n",
       " 'DeciTree__max_leaf_nodes': 10,\n",
       " 'DeciTree__max_features': 'log2',\n",
       " 'DeciTree__max_depth': 10,\n",
       " 'DeciTree__criterion': 'squared_error',\n",
       " 'DeciTree__ccp_alpha': 0.001}"
      ]
     },
     "execution_count": 1284,
     "metadata": {},
     "output_type": "execute_result"
    }
   ],
   "source": [
    "rand_search.fit(X_train, y_train)\n",
    "\n",
    "rand_search.best_params_"
   ]
  },
  {
   "cell_type": "code",
   "execution_count": 1303,
   "metadata": {},
   "outputs": [
    {
     "data": {
      "text/plain": [
       "1412.6218441396213"
      ]
     },
     "execution_count": 1303,
     "metadata": {},
     "output_type": "execute_result"
    }
   ],
   "source": [
    "mae_scorer(rand_search.best_estimator_, X_test, y_test)"
   ]
  },
  {
   "cell_type": "markdown",
   "metadata": {},
   "source": [
    "Score after randomsearch is way worse than the default parameters, the default parameters might alreedy be good.\n",
    "Besides, the performance of the base model is already extremely good, with an MAE of $17.08"
   ]
  },
  {
   "cell_type": "markdown",
   "metadata": {},
   "source": [
    "# Final Score"
   ]
  },
  {
   "cell_type": "code",
   "execution_count": 1304,
   "metadata": {},
   "outputs": [
    {
     "name": "stdout",
     "output_type": "stream",
     "text": [
      "Final Score:\n",
      "MAE: 17.08172771149828\n"
     ]
    }
   ],
   "source": [
    "pipe = clone(preprocessor_pipe)\n",
    "pipe.steps.append((\"Final Model\", DecisionTreeRegressor(random_state=39)))\n",
    "pipe.fit(X_train, y_train)\n",
    "\n",
    "print('Final Score:')\n",
    "print(f'MAE: {mae_scorer(pipe, X_test, y_test)}')"
   ]
  }
 ],
 "metadata": {
  "interpreter": {
   "hash": "d9089066339eff4f35aa35b454e443e5abc22ec8d026f023ec71d93c816c00ba"
  },
  "kernelspec": {
   "display_name": "Python 3.9.5 ('.venv': venv)",
   "language": "python",
   "name": "python3"
  },
  "language_info": {
   "codemirror_mode": {
    "name": "ipython",
    "version": 3
   },
   "file_extension": ".py",
   "mimetype": "text/x-python",
   "name": "python",
   "nbconvert_exporter": "python",
   "pygments_lexer": "ipython3",
   "version": "3.9.5"
  },
  "orig_nbformat": 4
 },
 "nbformat": 4,
 "nbformat_minor": 2
}
